{
 "cells": [
  {
   "cell_type": "markdown",
   "id": "ec7ccf69",
   "metadata": {},
   "source": [
    "# Data Preprocessing"
   ]
  },
  {
   "cell_type": "markdown",
   "id": "f61be34c",
   "metadata": {},
   "source": [
    "In order to achieve clean datasets, we do data perprocessing for our collected images including data clean and data normalization. \n",
    "\n",
    "1. In data clean step, we delete gray fruit images by checking the image shape using PIL python library. Besides, we delete duplicated Images to avoid overfitting to these images. During data exploration, we observe some poor-quality images that do not contain any fruits but unrelated objects. We also delete these images to avoid noise when training model. \n",
    "\n",
    "2. In data normalization step, we mainly focus on balancing the image number for each fruit category and normalize all the image shape. Since we collect the real-world fruit images in seven categories (apples, pineapple, apple, banana, strawberry, pear, watermelon, grapes), we reduce the image number to 5000 for all the categories, so that we expect our model can fairly have good performance on all the fruit catogories.\n",
    "\n",
    "---\n",
    "To download our dataset, please go to our google drive page.\\\n",
    "Raw Image Dataset: https://drive.google.com/drive/folders/1mcvubLGu17ZVKTGvG_nKS-u00cKZjaGo?usp=share_link\n",
    "\n",
    "---\n",
    "\n",
    "In order to test the preproceesing function, please make sure the data follow the folder structure:\\\n",
    "\\- data_preprocessing.ipynb\\\n",
    "\\- Flickr_scrape\\\n",
    "\\- resize_realworld\\\n",
    "\\- realworld\n",
    "\n",
    "\\\n",
    "\n",
    "The following cell is to help create such folder structure:"
   ]
  },
  {
   "cell_type": "code",
   "execution_count": 10,
   "id": "7490a849",
   "metadata": {},
   "outputs": [],
   "source": [
    "import PIL\n",
    "from PIL import Image\n",
    "import os \n",
    "import matplotlib.pyplot as plt"
   ]
  },
  {
   "cell_type": "code",
   "execution_count": 11,
   "id": "3e6bcb4f",
   "metadata": {},
   "outputs": [],
   "source": [
    "if not os.path.exists('./resize_realworld'):\n",
    "    os.mkdir('./resize_realworld')\n",
    "if not os.path.exists('./realworld'):\n",
    "    os.mkdir('./realworld')\n",
    "\n",
    "for fruit in QURIES:\n",
    "    if not os.path.exists('./resize_realworld/'+fruit):\n",
    "        os.mkdir('./resize_realworld/'+fruit)\n",
    "    if not os.path.exists('./realworld/'+fruit):\n",
    "        os.mkdir('./realworld/'+fruit)"
   ]
  },
  {
   "cell_type": "markdown",
   "id": "f667fdf6",
   "metadata": {},
   "source": [
    "## Crop and Resize Image"
   ]
  },
  {
   "cell_type": "code",
   "execution_count": null,
   "id": "18d85a42",
   "metadata": {},
   "outputs": [],
   "source": [
    "QURIES = ['pineapple', 'apple', 'banana', 'strawberry', 'pear', 'watermelon', 'grapes']  \n",
    "\n",
    "for fruit in QURIES:\n",
    "    dir_path = './Flickr_scrape/' + fruit + '/'\n",
    "    tgt_path = './resize_realworld/' + fruit + '/'\n",
    "    for i in range(1,8000):\n",
    "        image_path = dir_path + str(i) +\".jpg\"\n",
    "        if not os.path.exists(image_path):\n",
    "            continue\n",
    "        im = Image.open(image_path)\n",
    "        image_size = (255,255)\n",
    "        width, hight = im.size\n",
    "        min_square = min(width,hight)\n",
    "        if not (width < 255 or hight <255):\n",
    "            left = width/2-min_square/2\n",
    "            right = width/2+min_square/2\n",
    "            upper = hight/2-min_square/2\n",
    "            bottom = hight/2+min_square/2\n",
    "            im = im.crop((left, upper, right, bottom))\n",
    "            im = im.resize(image_size)\n",
    "            im.save(tgt_path + str(i) +\".jpg\")\n",
    "        if i % 1000 == 0:\n",
    "            print(f'Save {i} Imgaes Now!')\n"
   ]
  },
  {
   "cell_type": "markdown",
   "id": "87f6782d",
   "metadata": {},
   "source": [
    "## Rename Image"
   ]
  },
  {
   "cell_type": "code",
   "execution_count": 2,
   "id": "8dc23feb",
   "metadata": {},
   "outputs": [],
   "source": [
    "import PIL\n",
    "from PIL import Image\n",
    "import os \n",
    "\n",
    "QURIES = ['pineapple', 'apple', 'banana', 'strawberry', 'pear', 'watermelon', 'grapes']  \n",
    "\n",
    "for fruit in QURIES:\n",
    "    dir_path = './resize_realworld/' + fruit + '/'\n",
    "    tgt_path = './realworld/' + fruit + '/'\n",
    "    count = 0\n",
    "    for i in range(1,8000):\n",
    "        image_path = dir_path + str(i) +\".jpg\"\n",
    "        if not os.path.exists(image_path):\n",
    "            continue\n",
    "        im = Image.open(image_path)\n",
    "        im.save(tgt_path + str(count) +\".jpg\")\n",
    "        count += 1\n",
    "        if count % 1000 == 0:\n",
    "            print(f'Save {i} Imgaes Now!')\n",
    "        if count == 5000:\n",
    "            print('Done!!')\n",
    "            break"
   ]
  },
  {
   "cell_type": "markdown",
   "id": "726ca151",
   "metadata": {},
   "source": [
    "# Split Dataset into Train and Test"
   ]
  },
  {
   "cell_type": "markdown",
   "id": "f9fea2eb",
   "metadata": {},
   "source": [
    "In this section, we split datast in train and test. All the images are saved in numpy array (.npz file)"
   ]
  },
  {
   "cell_type": "markdown",
   "id": "8953f50b",
   "metadata": {},
   "source": [
    "## Realworld Train Dataset"
   ]
  },
  {
   "cell_type": "code",
   "execution_count": null,
   "id": "1e6ee076",
   "metadata": {},
   "outputs": [],
   "source": [
    "import numpy as np\n",
    "import imageio.v2 as imageio\n",
    "import os\n",
    "fruits = ['pear', 'pineapple','apple','watermelon','grapes','banana','strawberry']\n",
    "\n",
    "realworld= {}\n",
    "\n",
    "for fruit in fruits:\n",
    "    imgs = []\n",
    "    dir_path = './realworld/' + fruit + '/'\n",
    "    for i in range(4000):\n",
    "        image_path = dir_path + str(i) +\".jpg\"\n",
    "        if not os.path.exists(image_path):\n",
    "            continue\n",
    "        temp_img = imageio.imread(image_path, pilmode='RGB')\n",
    "        if temp_img.shape != (255,255,3):\n",
    "            print(f'temp img shape {temp_img.shape}')\n",
    "        imgs.append(temp_img)\n",
    "\n",
    "    realworld[fruit] = np.asarray(imgs)[:,:,:,:]\n",
    "\n",
    "np.savez_compressed('./compressed_realworld_train', apple = realworld['apple'], pear = realworld['pear'], banana = realworld['banana'], grapes = realworld['grapes'], pineapple = realworld['pineapple'], watermelon = realworld['watermelon'], strawberry = realworld['strawberry'])"
   ]
  },
  {
   "cell_type": "code",
   "execution_count": null,
   "id": "b7f5f7cd",
   "metadata": {},
   "outputs": [],
   "source": [
    "realworld.keys()"
   ]
  },
  {
   "cell_type": "code",
   "execution_count": null,
   "id": "a7989b51",
   "metadata": {},
   "outputs": [],
   "source": [
    "for key in realworld.keys():\n",
    "    print(realworld[key].shape)"
   ]
  },
  {
   "cell_type": "markdown",
   "id": "d0ef2412",
   "metadata": {},
   "source": [
    "## Realworld Test Dataset"
   ]
  },
  {
   "cell_type": "code",
   "execution_count": null,
   "id": "9aecd49a",
   "metadata": {},
   "outputs": [],
   "source": [
    "import numpy as np\n",
    "import imageio.v2 as imageio\n",
    "import os\n",
    "fruits = ['pear', 'pineapple','apple','watermelon','grapes','banana','strawberry']\n",
    "\n",
    "realworld= {}\n",
    "\n",
    "for fruit in fruits:\n",
    "    imgs = []\n",
    "    dir_path = './realworld/' + fruit + '/'\n",
    "    for i in range(4000,5000):\n",
    "        image_path = dir_path + str(i) +\".jpg\"\n",
    "        if not os.path.exists(image_path):\n",
    "            continue\n",
    "        temp_img = imageio.imread(image_path, pilmode='RGB')\n",
    "        if temp_img.shape != (255,255,3):\n",
    "            print(f'temp img shape {temp_img.shape}')\n",
    "        imgs.append(temp_img)\n",
    "\n",
    "    realworld[fruit] = np.asarray(imgs)[:,:,:,:]\n",
    "    "
   ]
  },
  {
   "cell_type": "code",
   "execution_count": null,
   "id": "644e7f00",
   "metadata": {},
   "outputs": [],
   "source": [
    "np.savez_compressed('./compressed_realworld_test', apple = realworld['apple'], pear = realworld['pear'], banana = realworld['banana'], grapes = realworld['grapes'], pineapple = realworld['pineapple'], watermelon = realworld['watermelon'], strawberry = realworld['strawberry'])"
   ]
  },
  {
   "cell_type": "markdown",
   "id": "e2f95c20",
   "metadata": {},
   "source": [
    "## Quickdraw Train Dataset"
   ]
  },
  {
   "cell_type": "code",
   "execution_count": 34,
   "id": "89c6d8fc",
   "metadata": {},
   "outputs": [],
   "source": [
    "import numpy as np\n",
    "import imageio.v2 as imageio\n",
    "import os\n",
    "fruits = ['apple','pear', 'banana','grapes','pineapple','watermelon','strawberry']\n",
    "\n",
    "quickdraw= {}\n",
    "\n",
    "for fruit in fruits:\n",
    "    imgs = []\n",
    "    dir_path = '/Users/apple/Desktop/CS5242Project/quickdraw/'+ fruit + '/'\n",
    "    for i in range(4000):\n",
    "        image_path = dir_path + str(i) +\".jpg\"\n",
    "        if not os.path.exists(image_path):\n",
    "            continue\n",
    "        temp_img = imageio.imread(image_path, pilmode='RGB')\n",
    "        if temp_img.shape != (255,255,3):\n",
    "            print(f'temp img shape {temp_img.shape}')\n",
    "        imgs.append(temp_img)\n",
    "        \n",
    "    quickdraw[fruit] = np.asarray(imgs)[:,:,:,:]\n",
    "    "
   ]
  },
  {
   "cell_type": "code",
   "execution_count": 35,
   "id": "fe9aabae",
   "metadata": {},
   "outputs": [
    {
     "data": {
      "text/plain": [
       "dict_keys(['apple', 'pear', 'banana', 'grapes', 'pineapple', 'watermelon', 'strawberry'])"
      ]
     },
     "execution_count": 35,
     "metadata": {},
     "output_type": "execute_result"
    }
   ],
   "source": [
    "quickdraw.keys()"
   ]
  },
  {
   "cell_type": "code",
   "execution_count": 36,
   "id": "9c52fec4",
   "metadata": {
    "scrolled": true
   },
   "outputs": [
    {
     "name": "stdout",
     "output_type": "stream",
     "text": [
      "apple (4000, 255, 255, 3)\n",
      "pear (4000, 255, 255, 3)\n",
      "banana (4000, 255, 255, 3)\n",
      "grapes (4000, 255, 255, 3)\n",
      "pineapple (4000, 255, 255, 3)\n",
      "watermelon (4000, 255, 255, 3)\n",
      "strawberry (4000, 255, 255, 3)\n"
     ]
    }
   ],
   "source": [
    "for key in quickdraw.keys():\n",
    "    print(key,quickdraw[key].shape)"
   ]
  },
  {
   "cell_type": "code",
   "execution_count": 38,
   "id": "a6fa4ef4",
   "metadata": {},
   "outputs": [
    {
     "data": {
      "text/plain": [
       "<matplotlib.image.AxesImage at 0x7f9a197573d0>"
      ]
     },
     "execution_count": 38,
     "metadata": {},
     "output_type": "execute_result"
    },
    {
     "data": {
      "image/png": "[encoded data removed]",
      "text/plain": [
       "<Figure size 640x480 with 1 Axes>"
      ]
     },
     "metadata": {},
     "output_type": "display_data"
    }
   ],
   "source": [
    "import matplotlib.pyplot as plt\n",
    "\n",
    "plt.imshow(quickdraw['apple'][0])\n"
   ]
  },
  {
   "cell_type": "code",
   "execution_count": 39,
   "id": "63642ad8",
   "metadata": {},
   "outputs": [],
   "source": [
    "np.savez_compressed('./compressed_quickdraw_train', apple = quickdraw['apple'], pear = quickdraw['pear'], banana = quickdraw['banana'], grapes = quickdraw['grapes'], pineapple = quickdraw['pineapple'], watermelon = quickdraw['watermelon'], strawberry = quickdraw['strawberry'])"
   ]
  },
  {
   "cell_type": "code",
   "execution_count": 40,
   "id": "7af0aaf9",
   "metadata": {},
   "outputs": [],
   "source": [
    "quickdraw_npy = np.load('./compressed_quickdraw_train.npz')\n",
    "quickdraw_npy = dict(quickdraw_npy)"
   ]
  },
  {
   "cell_type": "code",
   "execution_count": 41,
   "id": "d7599061",
   "metadata": {},
   "outputs": [
    {
     "data": {
      "text/plain": [
       "<matplotlib.image.AxesImage at 0x7f99597386a0>"
      ]
     },
     "execution_count": 41,
     "metadata": {},
     "output_type": "execute_result"
    },
    {
     "data": {
      "image/png": "[encoded data removed]",
      "text/plain": [
       "<Figure size 640x480 with 1 Axes>"
      ]
     },
     "metadata": {},
     "output_type": "display_data"
    }
   ],
   "source": [
    "plt.imshow(quickdraw_npy['pear'][1])"
   ]
  },
  {
   "cell_type": "markdown",
   "id": "82a699b0",
   "metadata": {},
   "source": [
    "## Quickdraw Test Dataset"
   ]
  },
  {
   "cell_type": "code",
   "execution_count": 42,
   "id": "e161fe8c",
   "metadata": {},
   "outputs": [],
   "source": [
    "import numpy as np\n",
    "import imageio.v2 as imageio\n",
    "import os\n",
    "fruits = ['apple','pear', 'banana','grapes','pineapple','watermelon','strawberry']\n",
    "\n",
    "quickdraw= {}\n",
    "\n",
    "for fruit in fruits:\n",
    "    imgs = []\n",
    "    dir_path = '/Users/apple/Desktop/CS5242Project/quickdraw/'+ fruit + '/'\n",
    "    for i in range(4000,5000):\n",
    "        image_path = dir_path + str(i) +\".jpg\"\n",
    "        if not os.path.exists(image_path):\n",
    "            continue\n",
    "        temp_img = imageio.imread(image_path, pilmode='RGB')\n",
    "        if temp_img.shape != (255,255,3):\n",
    "            print(f'temp img shape {temp_img.shape}')\n",
    "        imgs.append(temp_img)\n",
    "        \n",
    "    quickdraw[fruit] = np.asarray(imgs)[:,:,:,:]\n"
   ]
  },
  {
   "cell_type": "code",
   "execution_count": 43,
   "id": "5a54d337",
   "metadata": {},
   "outputs": [
    {
     "name": "stdout",
     "output_type": "stream",
     "text": [
      "apple (1000, 255, 255, 3)\n",
      "pear (1000, 255, 255, 3)\n",
      "banana (1000, 255, 255, 3)\n",
      "grapes (1000, 255, 255, 3)\n",
      "pineapple (1000, 255, 255, 3)\n",
      "watermelon (1000, 255, 255, 3)\n",
      "strawberry (1000, 255, 255, 3)\n"
     ]
    }
   ],
   "source": [
    "for key in quickdraw.keys():\n",
    "    print(key,quickdraw[key].shape)"
   ]
  },
  {
   "cell_type": "code",
   "execution_count": 44,
   "id": "cb3adfe8",
   "metadata": {},
   "outputs": [],
   "source": [
    "np.savez_compressed('./compressed_quickdraw_test', apple = quickdraw['apple'], pear = quickdraw['pear'], banana = quickdraw['banana'], grapes = quickdraw['grapes'], pineapple = quickdraw['pineapple'], watermelon = quickdraw['watermelon'], strawberry = quickdraw['strawberry'])"
   ]
  },
  {
   "cell_type": "markdown",
   "id": "cc887309",
   "metadata": {},
   "source": []
  }
 ],
 "metadata": {
  "kernelspec": {
   "display_name": "base",
   "language": "python",
   "name": "myenv"
  },
  "language_info": {
   "codemirror_mode": {
    "name": "ipython",
    "version": 3
   },
   "file_extension": ".py",
   "mimetype": "text/x-python",
   "name": "python",
   "nbconvert_exporter": "python",
   "pygments_lexer": "ipython3",
   "version": "3.9.12"
  }
 },
 "nbformat": 4,
 "nbformat_minor": 5
}
