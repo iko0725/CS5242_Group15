{
 "cells": [
  {
   "cell_type": "markdown",
   "id": "lIAcBLxIHcwi",
   "metadata": {
    "id": "lIAcBLxIHcwi"
   },
   "source": [
    "# CNN"
   ]
  },
  {
   "cell_type": "markdown",
   "id": "YXIBlpqHI0WW",
   "metadata": {
    "id": "YXIBlpqHI0WW"
   },
   "source": [
    "## 1. Import libraries"
   ]
  },
  {
   "cell_type": "code",
   "execution_count": 1,
   "id": "tzdbu-CAZcn9",
   "metadata": {
    "colab": {
     "base_uri": "https://localhost:8080/"
    },
    "executionInfo": {
     "elapsed": 26835,
     "status": "ok",
     "timestamp": 1668596910875,
     "user": {
      "displayName": "Fan Yehan",
      "userId": "15164023734316611446"
     },
     "user_tz": -480
    },
    "id": "tzdbu-CAZcn9",
    "outputId": "9d781ae8-bd82-470c-eac8-5e515b9504bd"
   },
   "outputs": [
    {
     "name": "stdout",
     "output_type": "stream",
     "text": [
      "Mounted at /content/drive\n"
     ]
    }
   ],
   "source": [
    "from google.colab import drive\n",
    "drive.mount('/content/drive') \n",
    "\n",
    "import sys,os\n",
    "import fnmatch\n",
    "sys.path.insert(0,'/content/drive/My Drive/5242_final_project')"
   ]
  },
  {
   "cell_type": "code",
   "execution_count": 2,
   "id": "ca427d6c",
   "metadata": {
    "executionInfo": {
     "elapsed": 3562,
     "status": "ok",
     "timestamp": 1668596933600,
     "user": {
      "displayName": "Fan Yehan",
      "userId": "15164023734316611446"
     },
     "user_tz": -480
    },
    "id": "ca427d6c"
   },
   "outputs": [],
   "source": [
    "import numpy as np\n",
    "import os\n",
    "import matplotlib.pyplot as plt\n",
    "import torch\n",
    "import torch.nn as nn\n",
    "import torch.nn.functional as F\n",
    "from torch.utils.data import Dataset, DataLoader, Sampler\n",
    "from torchvision import transforms\n",
    "import torch\n",
    "import random\n",
    "import pandas as pd\n",
    "from collections import defaultdict "
   ]
  },
  {
   "cell_type": "markdown",
   "id": "-LT9PzSXI5yg",
   "metadata": {
    "id": "-LT9PzSXI5yg"
   },
   "source": [
    "## 2. Load our dataset structure"
   ]
  },
  {
   "cell_type": "code",
   "execution_count": 5,
   "id": "c4f40eaf",
   "metadata": {
    "executionInfo": {
     "elapsed": 4,
     "status": "ok",
     "timestamp": 1668597048768,
     "user": {
      "displayName": "Fan Yehan",
      "userId": "15164023734316611446"
     },
     "user_tz": -480
    },
    "id": "c4f40eaf"
   },
   "outputs": [],
   "source": [
    "class ImageDataset(Dataset):\n",
    "\n",
    "    def __init__(self, img_dir, fruit_category, image_size = 255, class_size = 5000, transform = False):\n",
    "        self.img_dir = img_dir\n",
    "        self.transform = transform\n",
    "        self.fruit_category = fruit_category\n",
    "        self.class_size = class_size\n",
    "        self.data_dict = dict(np.load(img_dir))\n",
    "        self.image_size = image_size\n",
    "        \n",
    "        self.transform_img = transforms.Compose([transforms.ToPILImage(),\n",
    "                                                transforms.Resize(image_size),\n",
    "                                                transforms.ToTensor()])\n",
    "        self.transform_label = transforms.Compose([transforms.ToTensor()])\n",
    "        \n",
    "    def __len__(self):\n",
    "        return self.class_size * len(self.fruit_category)\n",
    "\n",
    "    def __getitem__(self, idx):\n",
    "        if torch.is_tensor(idx):\n",
    "            idx = idx.tolist()\n",
    "        \n",
    "        class_index = int(idx // self.class_size)\n",
    "        category =  self.fruit_category[class_index]\n",
    "        category_idx = int(idx % self.class_size)\n",
    "        \n",
    "        label = np.zeros((len(self.fruit_category), 1))\n",
    "        label[class_index] = 1\n",
    "        \n",
    "        image_ary =  self.data_dict[category][category_idx]\n",
    "        \n",
    "        sample = {'image': image_ary, 'label': label}\n",
    "        if self.transform:\n",
    "            sample['image'] = self.transform_img(sample['image'])\n",
    "            sample['label'] = self.transform_label(sample['label'])\n",
    "        return sample "
   ]
  },
  {
   "cell_type": "markdown",
   "id": "nqZzTt_TJAvw",
   "metadata": {
    "id": "nqZzTt_TJAvw"
   },
   "source": [
    "## 3. Build CNN model structure"
   ]
  },
  {
   "cell_type": "code",
   "execution_count": null,
   "id": "o0VD5zmxhvkT",
   "metadata": {
    "id": "o0VD5zmxhvkT"
   },
   "outputs": [],
   "source": [
    "class CNN(nn.Module):\n",
    "    \n",
    "    def __init__(self, num_classes):\n",
    "        super(CNN, self).__init__()\n",
    "       \n",
    "        self.conv1 = nn.Conv2d(3, 16, 3, padding=1)\n",
    "        self.conv2 = nn.Conv2d(16, 16, 3, padding=1)\n",
    "        self.conv3 = nn.Conv2d(16, 32, 3, padding=1)\n",
    "        self.conv4 = nn.Conv2d(32, 32, 3, padding=1)\n",
    "        self.conv5 = nn.Conv2d(32, 64, 3, padding=1)\n",
    "        self.conv6 = nn.Conv2d(64, 64, 3, padding=1)\n",
    "        self.conv7 = nn.Conv2d(64, 128, 3, padding=1)\n",
    "        self.conv8 = nn.Conv2d(128, 128, 3, padding=1)\n",
    "        \n",
    "        self.flatten = nn.Flatten(start_dim=1, end_dim=3)\n",
    "        self.dropout = nn.Dropout(p=0.1)\n",
    "        self.fc1 = nn.Linear(128, 7)\n",
    "\n",
    "        \n",
    "    def forward(self, x):\n",
    "        x = F.relu(self.conv1(x))\n",
    "        x = F.max_pool2d(F.relu(self.conv2(x)), (2, 2))\n",
    "        x = self.dropout(x)\n",
    "        x = F.relu(self.conv3(x))\n",
    "        x = F.max_pool2d(F.relu(self.conv4(x)), (2, 2))\n",
    "        x = self.dropout(x)\n",
    "        x = F.relu(self.conv5(x))\n",
    "        x = F.max_pool2d(F.relu(self.conv6(x)), (2, 2))\n",
    "        x = self.dropout(x)\n",
    "        x = F.relu(self.conv7(x))\n",
    "        x = F.adaptive_avg_pool2d(F.relu(self.conv8(x)), 1)\n",
    "        x = self.dropout(x)\n",
    "        x = self.flatten(x)\n",
    "        x = self.dropout(x)\n",
    "        out = self.fc1(x)\n",
    "        return out"
   ]
  },
  {
   "cell_type": "markdown",
   "id": "CnBZIVOlJKro",
   "metadata": {
    "id": "CnBZIVOlJKro"
   },
   "source": [
    "##  4. Load train and validation data"
   ]
  },
  {
   "cell_type": "code",
   "execution_count": null,
   "id": "cbec27c0",
   "metadata": {
    "id": "cbec27c0"
   },
   "outputs": [],
   "source": [
    "# quickdraw\n",
    "QURIES = ['pineapple', 'apple', 'banana', 'strawberry', 'pear', 'watermelon', 'grapes']  \n",
    "\n",
    "train_quickdraw_dir = sys.path[0]+'/compressed_quickdraw_train.npz'\n",
    "train_quickdraw = ImageDataset(train_quickdraw_dir, QURIES, image_size = 32, class_size = 4000)\n",
    "trainloader = DataLoader(train_quickdraw, batch_size=128, shuffle=True, pin_memory=True, num_workers=32)\n",
    "\n",
    "test_quickdraw_dir = sys.path[0]+'/compressed_quickdraw_test.npz'\n",
    "test_quickdraw = ImageDataset(test_quickdraw_dir, QURIES, image_size = 32, class_size = 1000)\n",
    "testloader = DataLoader(test_quickdraw, batch_size=128, shuffle=True, pin_memory=True, num_workers=32)"
   ]
  },
  {
   "cell_type": "code",
   "execution_count": null,
   "id": "0OqDtzDEd0_1",
   "metadata": {
    "id": "0OqDtzDEd0_1"
   },
   "outputs": [],
   "source": [
    "# realworld\n",
    "QURIES = ['pineapple', 'apple', 'banana', 'strawberry', 'pear', 'watermelon', 'grapes']  \n",
    "\n",
    "train_realworld_dir = sys.path[0]+'/compressed_realworld_train.npz'\n",
    "train_realworld = ImageDataset(train_realworld_dir, QURIES, image_size = 32, class_size = 4000)\n",
    "trainloader = DataLoader(train_realworld, batch_size=128, shuffle=True, pin_memory=True, num_workers=32)\n",
    "\n",
    "test_realworld_dir = sys.path[0]+'/compressed_realworld_test.npz'\n",
    "test_realworld = ImageDataset(test_realworld_dir, QURIES, image_size = 32, class_size = 1000)\n",
    "testloader = DataLoader(test_realworld, batch_size=128, shuffle=True, pin_memory=True, num_workers=32)"
   ]
  },
  {
   "cell_type": "markdown",
   "id": "_9I6cNmIKDYi",
   "metadata": {
    "id": "_9I6cNmIKDYi"
   },
   "source": [
    "## 5. Training settings"
   ]
  },
  {
   "cell_type": "code",
   "execution_count": null,
   "id": "099977e2",
   "metadata": {
    "id": "099977e2"
   },
   "outputs": [],
   "source": [
    "num_epoch = 30\n",
    "batch_size = 128\n",
    "device = torch.device('cuda:0' if torch.cuda.is_available() else 'cpu')\n",
    "model = CNN(7).to(device)\n",
    "criterion = nn.CrossEntropyLoss()\n",
    "optimizer = torch.optim.Adam(model.parameters(), lr=0.0003)"
   ]
  },
  {
   "cell_type": "markdown",
   "id": "WqfPVpM-KY34",
   "metadata": {
    "id": "WqfPVpM-KY34"
   },
   "source": [
    "## 6. Train and Test Procedure "
   ]
  },
  {
   "cell_type": "code",
   "execution_count": null,
   "id": "tOe5AWWcVwoA",
   "metadata": {
    "id": "tOe5AWWcVwoA"
   },
   "outputs": [],
   "source": [
    "def train(dataloader, model, loss_fn, optimizer):\n",
    "    size = len(dataloader.dataset)\n",
    "    num_batches = len(dataloader)\n",
    "    model.train()\n",
    "    train_loss, correct = 0, 0\n",
    "    for _, data in enumerate(dataloader):\n",
    "        X, y = data['image'].to(device), data['label'].to(device)\n",
    "        y = y.squeeze()\n",
    "        pred = model(X)\n",
    "        loss = loss_fn(pred, y)\n",
    "        train_loss += loss.item()\n",
    "        correct += (pred.argmax(1) == y.argmax(1)).type(torch.float).sum().item()\n",
    "        optimizer.zero_grad()\n",
    "        loss.backward()\n",
    "        optimizer.step()\n",
    "        if (_ % 100 == 0):\n",
    "            loss, current = loss.item(), _ * len(X)\n",
    "            print(f\"Loss: {loss:>7f}  [{current:>5d}/{size:>5d}]\")\n",
    "    train_loss /= num_batches\n",
    "    correct /= size\n",
    "    return correct, train_loss\n",
    "\n",
    "def test(dataloader, model, loss_fn):\n",
    "    size = len(dataloader.dataset)\n",
    "    num_batches = len(dataloader)\n",
    "    model.eval()\n",
    "    test_loss, correct = 0, 0\n",
    "    with torch.no_grad():\n",
    "         for _, data in enumerate(dataloader):\n",
    "            X, y = data['image'].to(device), data['label'].to(device)\n",
    "            y = y.squeeze()\n",
    "            pred = model(X)\n",
    "            test_loss += loss_fn(pred, y).item()\n",
    "            correct += (pred.argmax(1) == y.argmax(1)).type(torch.float).sum().item()\n",
    "    test_loss /= num_batches\n",
    "    correct /= size\n",
    "    print(\"------------ Test -----------\")\n",
    "    print(f\"Accuracy: {(100*correct):>2f}%, Avg loss: {test_loss:>8f} \\n\")\n",
    "    return correct, test_loss"
   ]
  },
  {
   "cell_type": "code",
   "execution_count": null,
   "id": "WvzjzIRxV2Zb",
   "metadata": {
    "colab": {
     "base_uri": "https://localhost:8080/"
    },
    "executionInfo": {
     "elapsed": 684725,
     "status": "ok",
     "timestamp": 1668559567650,
     "user": {
      "displayName": "S Fan",
      "userId": "12533267099099146412"
     },
     "user_tz": -480
    },
    "id": "WvzjzIRxV2Zb",
    "outputId": "c04a3c49-a7c4-4d11-83a8-4ee96ea1a864"
   },
   "outputs": [
    {
     "name": "stdout",
     "output_type": "stream",
     "text": [
      "Loss: 1.953558  [    0/28000]\n",
      "Loss: 1.944531  [12800/28000]\n",
      "Loss: 1.945310  [25600/28000]\n",
      "------------ Test -----------\n",
      "Accuracy: 14.285714%, Avg loss: 1.945981 \n",
      "\n",
      "Loss: 1.943479  [    0/28000]\n",
      "Loss: 1.947260  [12800/28000]\n",
      "Loss: 1.942505  [25600/28000]\n",
      "------------ Test -----------\n",
      "Accuracy: 31.842857%, Avg loss: 1.811596 \n",
      "\n",
      "Loss: 1.806456  [    0/28000]\n",
      "Loss: 1.525864  [12800/28000]\n",
      "Loss: 1.171050  [25600/28000]\n",
      "------------ Test -----------\n",
      "Accuracy: 63.900000%, Avg loss: 0.991530 \n",
      "\n",
      "Loss: 1.103315  [    0/28000]\n",
      "Loss: 1.111033  [12800/28000]\n",
      "Loss: 0.843372  [25600/28000]\n",
      "------------ Test -----------\n",
      "Accuracy: 72.614286%, Avg loss: 0.793775 \n",
      "\n",
      "Loss: 0.751438  [    0/28000]\n",
      "Loss: 0.648300  [12800/28000]\n",
      "Loss: 0.777429  [25600/28000]\n",
      "------------ Test -----------\n",
      "Accuracy: 75.600000%, Avg loss: 0.705260 \n",
      "\n",
      "Loss: 0.713657  [    0/28000]\n",
      "Loss: 0.615184  [12800/28000]\n",
      "Loss: 0.581590  [25600/28000]\n",
      "------------ Test -----------\n",
      "Accuracy: 80.442857%, Avg loss: 0.586382 \n",
      "\n",
      "Loss: 0.672404  [    0/28000]\n",
      "Loss: 0.726868  [12800/28000]\n",
      "Loss: 0.633615  [25600/28000]\n",
      "------------ Test -----------\n",
      "Accuracy: 81.242857%, Avg loss: 0.574671 \n",
      "\n",
      "Loss: 0.604997  [    0/28000]\n",
      "Loss: 0.708519  [12800/28000]\n",
      "Loss: 0.453930  [25600/28000]\n",
      "------------ Test -----------\n",
      "Accuracy: 82.285714%, Avg loss: 0.527413 \n",
      "\n",
      "Loss: 0.512134  [    0/28000]\n",
      "Loss: 0.508321  [12800/28000]\n",
      "Loss: 0.461845  [25600/28000]\n",
      "------------ Test -----------\n",
      "Accuracy: 82.900000%, Avg loss: 0.502016 \n",
      "\n",
      "Loss: 0.504599  [    0/28000]\n",
      "Loss: 0.631943  [12800/28000]\n",
      "Loss: 0.780606  [25600/28000]\n",
      "------------ Test -----------\n",
      "Accuracy: 82.685714%, Avg loss: 0.509860 \n",
      "\n",
      "Loss: 0.768287  [    0/28000]\n",
      "Loss: 0.433978  [12800/28000]\n",
      "Loss: 0.415914  [25600/28000]\n",
      "------------ Test -----------\n",
      "Accuracy: 84.971429%, Avg loss: 0.453320 \n",
      "\n",
      "Loss: 0.461999  [    0/28000]\n",
      "Loss: 0.461862  [12800/28000]\n",
      "Loss: 0.591902  [25600/28000]\n",
      "------------ Test -----------\n",
      "Accuracy: 84.814286%, Avg loss: 0.440905 \n",
      "\n",
      "Loss: 0.378429  [    0/28000]\n",
      "Loss: 0.468154  [12800/28000]\n",
      "Loss: 0.562314  [25600/28000]\n",
      "------------ Test -----------\n",
      "Accuracy: 85.842857%, Avg loss: 0.417421 \n",
      "\n",
      "Loss: 0.390666  [    0/28000]\n",
      "Loss: 0.463471  [12800/28000]\n",
      "Loss: 0.460970  [25600/28000]\n",
      "------------ Test -----------\n",
      "Accuracy: 85.971429%, Avg loss: 0.409295 \n",
      "\n",
      "Loss: 0.523773  [    0/28000]\n",
      "Loss: 0.324188  [12800/28000]\n",
      "Loss: 0.392652  [25600/28000]\n",
      "------------ Test -----------\n",
      "Accuracy: 86.671429%, Avg loss: 0.392830 \n",
      "\n",
      "Loss: 0.480896  [    0/28000]\n",
      "Loss: 0.349298  [12800/28000]\n",
      "Loss: 0.326982  [25600/28000]\n",
      "------------ Test -----------\n",
      "Accuracy: 87.142857%, Avg loss: 0.390466 \n",
      "\n",
      "Loss: 0.381995  [    0/28000]\n",
      "Loss: 0.574631  [12800/28000]\n",
      "Loss: 0.369225  [25600/28000]\n",
      "------------ Test -----------\n",
      "Accuracy: 87.042857%, Avg loss: 0.372788 \n",
      "\n",
      "Loss: 0.344297  [    0/28000]\n",
      "Loss: 0.515425  [12800/28000]\n",
      "Loss: 0.401122  [25600/28000]\n",
      "------------ Test -----------\n",
      "Accuracy: 86.842857%, Avg loss: 0.385160 \n",
      "\n",
      "Loss: 0.417525  [    0/28000]\n",
      "Loss: 0.324790  [12800/28000]\n",
      "Loss: 0.446052  [25600/28000]\n",
      "------------ Test -----------\n",
      "Accuracy: 87.757143%, Avg loss: 0.355231 \n",
      "\n",
      "Loss: 0.472096  [    0/28000]\n",
      "Loss: 0.449711  [12800/28000]\n",
      "Loss: 0.336484  [25600/28000]\n",
      "------------ Test -----------\n",
      "Accuracy: 88.471429%, Avg loss: 0.338899 \n",
      "\n",
      "Loss: 0.188666  [    0/28000]\n",
      "Loss: 0.292988  [12800/28000]\n",
      "Loss: 0.295551  [25600/28000]\n",
      "------------ Test -----------\n",
      "Accuracy: 88.728571%, Avg loss: 0.329621 \n",
      "\n",
      "Loss: 0.322122  [    0/28000]\n",
      "Loss: 0.333725  [12800/28000]\n",
      "Loss: 0.262247  [25600/28000]\n",
      "------------ Test -----------\n",
      "Accuracy: 88.771429%, Avg loss: 0.325426 \n",
      "\n",
      "Loss: 0.390879  [    0/28000]\n",
      "Loss: 0.442270  [12800/28000]\n",
      "Loss: 0.328138  [25600/28000]\n",
      "------------ Test -----------\n",
      "Accuracy: 89.014286%, Avg loss: 0.316484 \n",
      "\n",
      "Loss: 0.286470  [    0/28000]\n",
      "Loss: 0.316357  [12800/28000]\n",
      "Loss: 0.354301  [25600/28000]\n",
      "------------ Test -----------\n",
      "Accuracy: 89.085714%, Avg loss: 0.323406 \n",
      "\n",
      "Loss: 0.384103  [    0/28000]\n",
      "Loss: 0.453561  [12800/28000]\n",
      "Loss: 0.335528  [25600/28000]\n",
      "------------ Test -----------\n",
      "Accuracy: 89.614286%, Avg loss: 0.304157 \n",
      "\n",
      "Loss: 0.201265  [    0/28000]\n",
      "Loss: 0.372584  [12800/28000]\n",
      "Loss: 0.273286  [25600/28000]\n",
      "------------ Test -----------\n",
      "Accuracy: 89.414286%, Avg loss: 0.314639 \n",
      "\n",
      "Loss: 0.321069  [    0/28000]\n",
      "Loss: 0.199945  [12800/28000]\n",
      "Loss: 0.299366  [25600/28000]\n",
      "------------ Test -----------\n",
      "Accuracy: 89.871429%, Avg loss: 0.296328 \n",
      "\n",
      "Loss: 0.287165  [    0/28000]\n",
      "Loss: 0.414527  [12800/28000]\n",
      "Loss: 0.252383  [25600/28000]\n",
      "------------ Test -----------\n",
      "Accuracy: 89.485714%, Avg loss: 0.312731 \n",
      "\n",
      "Loss: 0.371293  [    0/28000]\n",
      "Loss: 0.355900  [12800/28000]\n",
      "Loss: 0.289853  [25600/28000]\n",
      "------------ Test -----------\n",
      "Accuracy: 90.457143%, Avg loss: 0.291075 \n",
      "\n",
      "Loss: 0.406993  [    0/28000]\n",
      "Loss: 0.312715  [12800/28000]\n",
      "Loss: 0.170296  [25600/28000]\n",
      "------------ Test -----------\n",
      "Accuracy: 90.385714%, Avg loss: 0.282826 \n",
      "\n"
     ]
    }
   ],
   "source": [
    "# Quickdraw\n",
    "train_quickdraw_acc = []\n",
    "train_quickdraw_loss = []\n",
    "val_quickdraw_acc = []\n",
    "val_quickdraw_loss = []\n",
    "\n",
    "for epoch in range(num_epoch):\n",
    "  train__acc, train_loss = train(trainloader, model, criterion, optimizer)\n",
    "  val__acc, val_loss = test(testloader, model, criterion)\n",
    "  train_quickdraw_acc.append(train__acc)\n",
    "  train_quickdraw_loss.append(train_loss)\n",
    "  val_quickdraw_acc.append(val__acc)\n",
    "  val_quickdraw_loss.append(val_loss)"
   ]
  },
  {
   "cell_type": "code",
   "execution_count": null,
   "id": "xSkoCxsYXjWG",
   "metadata": {
    "colab": {
     "base_uri": "https://localhost:8080/",
     "height": 545
    },
    "executionInfo": {
     "elapsed": 708,
     "status": "ok",
     "timestamp": 1668559839553,
     "user": {
      "displayName": "S Fan",
      "userId": "12533267099099146412"
     },
     "user_tz": -480
    },
    "id": "xSkoCxsYXjWG",
    "outputId": "d7f79eb8-850f-4607-f006-1973f55dc0ca"
   },
   "outputs": [
    {
     "data": {
      "image/png": "[encoded data removed]",
      "text/plain": [
       "<Figure size 432x288 with 1 Axes>"
      ]
     },
     "metadata": {
      "needs_background": "light"
     },
     "output_type": "display_data"
    },
    {
     "data": {
      "image/png": "[encoded data removed]",
      "text/plain": [
       "<Figure size 432x288 with 1 Axes>"
      ]
     },
     "metadata": {
      "needs_background": "light"
     },
     "output_type": "display_data"
    }
   ],
   "source": [
    "epoches = [i for i in range(num_epoch)]\n",
    "plt.plot(epoches, train_quickdraw_loss, label=\"train loss\")\n",
    "plt.plot(epoches, val_quickdraw_loss, label=\"validation loss\")\n",
    "plt.legend()\n",
    "plt.title('Loss curve')\n",
    "plt.show()\n",
    "\n",
    "plt.plot(epoches, train_quickdraw_acc, label=\"train accuracy\")\n",
    "plt.plot(epoches, val_quickdraw_acc, label=\"validation accuracy\")\n",
    "plt.legend()\n",
    "plt.title('Accuracy curve')\n",
    "plt.show()"
   ]
  },
  {
   "cell_type": "code",
   "execution_count": null,
   "id": "B3WQMVv19rK7",
   "metadata": {
    "id": "B3WQMVv19rK7"
   },
   "outputs": [],
   "source": [
    "torch.save(model, sys.path[0]+'/CNN_quickdraw_dropout0.1_model.pth')"
   ]
  },
  {
   "cell_type": "code",
   "execution_count": null,
   "id": "paFXAxbqYkeA",
   "metadata": {
    "colab": {
     "base_uri": "https://localhost:8080/"
    },
    "executionInfo": {
     "elapsed": 878,
     "status": "ok",
     "timestamp": 1668559940894,
     "user": {
      "displayName": "S Fan",
      "userId": "12533267099099146412"
     },
     "user_tz": -480
    },
    "id": "paFXAxbqYkeA",
    "outputId": "9fa6ea60-52a8-4de7-e8bd-e5a92a8e50eb"
   },
   "outputs": [
    {
     "name": "stdout",
     "output_type": "stream",
     "text": [
      "[1.946368353676669, 1.943228068532595, 1.4336128879104588, 0.9521191024662095, 0.7981378577569481, 0.6966544555688681, 0.6448520431642759, 0.6023464996166494, 0.5688845520529696, 0.549946906238268, 0.5243936430972657, 0.5064700133352247, 0.492168615512334, 0.4652590140447692, 0.4438146128664885, 0.43073290431649164, 0.4205563779993464, 0.4119964853721896, 0.39670644089289614, 0.37934440137931935, 0.3746311097019976, 0.36193650030792124, 0.34657029993386496, 0.34036882502716104, 0.3308548113960638, 0.3248450318423981, 0.31825273047457003, 0.31237148964129774, 0.30590066043531305, 0.29900065596417075]\n",
      "[0.1422142857142857, 0.1470357142857143, 0.43714285714285717, 0.6574285714285715, 0.7176428571428571, 0.7604285714285715, 0.7827857142857143, 0.7990714285714285, 0.8111071428571428, 0.8178571428571428, 0.8255714285714286, 0.8313571428571429, 0.8348214285714286, 0.8455, 0.8518928571428571, 0.8561428571428571, 0.859, 0.8621785714285715, 0.8698214285714285, 0.8742857142857143, 0.8776428571428572, 0.8808214285714285, 0.8838214285714285, 0.8887142857142857, 0.8881785714285715, 0.8910357142857143, 0.8953928571428571, 0.8969642857142858, 0.8975, 0.9015714285714286]\n",
      "[1.945981197134584, 1.8115962988966383, 0.9915304646263484, 0.7937746992934599, 0.7052602761154304, 0.5863815622784597, 0.5746711335450609, 0.5274133835479494, 0.50201595750504, 0.5098599378068165, 0.4533196179482049, 0.440904623888973, 0.4174214763859512, 0.40929546389736643, 0.39283026067746796, 0.39046593887547615, 0.3727879921874595, 0.38515977963030285, 0.35523083138885153, 0.3388994205498418, 0.3296207852205441, 0.325426287555104, 0.31648352945307046, 0.32340607940222266, 0.30415717867902314, 0.31463878390424865, 0.29632832907707857, 0.31273107686731366, 0.2910754261913434, 0.2828257133607599]\n",
      "[0.14285714285714285, 0.31842857142857145, 0.639, 0.7261428571428571, 0.756, 0.8044285714285714, 0.8124285714285714, 0.8228571428571428, 0.829, 0.8268571428571428, 0.8497142857142858, 0.8481428571428572, 0.8584285714285714, 0.8597142857142858, 0.8667142857142857, 0.8714285714285714, 0.8704285714285714, 0.8684285714285714, 0.8775714285714286, 0.8847142857142857, 0.8872857142857142, 0.8877142857142857, 0.8901428571428571, 0.8908571428571429, 0.8961428571428571, 0.8941428571428571, 0.8987142857142857, 0.8948571428571429, 0.9045714285714286, 0.9038571428571428]\n"
     ]
    }
   ],
   "source": [
    "print(train_quickdraw_loss)\n",
    "print(train_quickdraw_acc)\n",
    "print(val_quickdraw_loss)\n",
    "print(val_quickdraw_acc)"
   ]
  },
  {
   "cell_type": "code",
   "execution_count": null,
   "id": "rb8rgjw2c_8N",
   "metadata": {
    "colab": {
     "base_uri": "https://localhost:8080/"
    },
    "executionInfo": {
     "elapsed": 769773,
     "status": "ok",
     "timestamp": 1668561339667,
     "user": {
      "displayName": "S Fan",
      "userId": "12533267099099146412"
     },
     "user_tz": -480
    },
    "id": "rb8rgjw2c_8N",
    "outputId": "af6820d9-d91f-4e43-e65e-6666a82c61c8"
   },
   "outputs": [
    {
     "name": "stdout",
     "output_type": "stream",
     "text": [
      "Loss: 1.952949  [    0/28000]\n",
      "Loss: 1.617090  [12800/28000]\n",
      "Loss: 1.411912  [25600/28000]\n",
      "------------ Test -----------\n",
      "Accuracy: 38.828571%, Avg loss: 1.413246 \n",
      "\n",
      "Loss: 1.535035  [    0/28000]\n",
      "Loss: 1.369086  [12800/28000]\n",
      "Loss: 1.444915  [25600/28000]\n",
      "------------ Test -----------\n",
      "Accuracy: 46.271429%, Avg loss: 1.292556 \n",
      "\n",
      "Loss: 1.310591  [    0/28000]\n",
      "Loss: 1.391515  [12800/28000]\n",
      "Loss: 1.241985  [25600/28000]\n",
      "------------ Test -----------\n",
      "Accuracy: 53.714286%, Avg loss: 1.195499 \n",
      "\n",
      "Loss: 1.216319  [    0/28000]\n",
      "Loss: 1.136226  [12800/28000]\n",
      "Loss: 1.288875  [25600/28000]\n",
      "------------ Test -----------\n",
      "Accuracy: 58.485714%, Avg loss: 1.083499 \n",
      "\n",
      "Loss: 1.099669  [    0/28000]\n",
      "Loss: 1.010312  [12800/28000]\n",
      "Loss: 1.212086  [25600/28000]\n",
      "------------ Test -----------\n",
      "Accuracy: 59.714286%, Avg loss: 1.025490 \n",
      "\n",
      "Loss: 1.133389  [    0/28000]\n",
      "Loss: 0.967163  [12800/28000]\n",
      "Loss: 0.818391  [25600/28000]\n",
      "------------ Test -----------\n",
      "Accuracy: 66.385714%, Avg loss: 0.909689 \n",
      "\n",
      "Loss: 0.919614  [    0/28000]\n",
      "Loss: 0.861835  [12800/28000]\n",
      "Loss: 1.004474  [25600/28000]\n",
      "------------ Test -----------\n",
      "Accuracy: 69.600000%, Avg loss: 0.834073 \n",
      "\n",
      "Loss: 0.969225  [    0/28000]\n",
      "Loss: 0.992671  [12800/28000]\n",
      "Loss: 0.857269  [25600/28000]\n",
      "------------ Test -----------\n",
      "Accuracy: 67.828571%, Avg loss: 0.862718 \n",
      "\n",
      "Loss: 0.889747  [    0/28000]\n",
      "Loss: 1.008726  [12800/28000]\n",
      "Loss: 0.980998  [25600/28000]\n",
      "------------ Test -----------\n",
      "Accuracy: 73.028571%, Avg loss: 0.747366 \n",
      "\n",
      "Loss: 0.857801  [    0/28000]\n",
      "Loss: 1.041213  [12800/28000]\n",
      "Loss: 0.797804  [25600/28000]\n",
      "------------ Test -----------\n",
      "Accuracy: 77.442857%, Avg loss: 0.667366 \n",
      "\n",
      "Loss: 0.830913  [    0/28000]\n",
      "Loss: 0.849953  [12800/28000]\n",
      "Loss: 0.741416  [25600/28000]\n",
      "------------ Test -----------\n",
      "Accuracy: 77.742857%, Avg loss: 0.635550 \n",
      "\n",
      "Loss: 0.822838  [    0/28000]\n",
      "Loss: 0.773173  [12800/28000]\n",
      "Loss: 0.749015  [25600/28000]\n",
      "------------ Test -----------\n",
      "Accuracy: 79.171429%, Avg loss: 0.616409 \n",
      "\n",
      "Loss: 0.674682  [    0/28000]\n",
      "Loss: 0.770071  [12800/28000]\n",
      "Loss: 0.720233  [25600/28000]\n",
      "------------ Test -----------\n",
      "Accuracy: 82.885714%, Avg loss: 0.531380 \n",
      "\n",
      "Loss: 0.759148  [    0/28000]\n",
      "Loss: 0.608526  [12800/28000]\n",
      "Loss: 0.662810  [25600/28000]\n",
      "------------ Test -----------\n",
      "Accuracy: 82.585714%, Avg loss: 0.517699 \n",
      "\n",
      "Loss: 0.748613  [    0/28000]\n",
      "Loss: 0.650249  [12800/28000]\n",
      "Loss: 0.725768  [25600/28000]\n",
      "------------ Test -----------\n",
      "Accuracy: 81.614286%, Avg loss: 0.553934 \n",
      "\n",
      "Loss: 0.681006  [    0/28000]\n",
      "Loss: 0.688344  [12800/28000]\n",
      "Loss: 0.748914  [25600/28000]\n",
      "------------ Test -----------\n",
      "Accuracy: 83.757143%, Avg loss: 0.469938 \n",
      "\n",
      "Loss: 0.533250  [    0/28000]\n",
      "Loss: 0.620678  [12800/28000]\n",
      "Loss: 0.736297  [25600/28000]\n",
      "------------ Test -----------\n",
      "Accuracy: 85.542857%, Avg loss: 0.439364 \n",
      "\n",
      "Loss: 0.723048  [    0/28000]\n",
      "Loss: 0.647580  [12800/28000]\n",
      "Loss: 0.676516  [25600/28000]\n",
      "------------ Test -----------\n",
      "Accuracy: 87.028571%, Avg loss: 0.423651 \n",
      "\n",
      "Loss: 0.575879  [    0/28000]\n",
      "Loss: 0.663403  [12800/28000]\n",
      "Loss: 0.441339  [25600/28000]\n",
      "------------ Test -----------\n",
      "Accuracy: 86.242857%, Avg loss: 0.427832 \n",
      "\n",
      "Loss: 0.617202  [    0/28000]\n",
      "Loss: 0.632869  [12800/28000]\n",
      "Loss: 0.782307  [25600/28000]\n",
      "------------ Test -----------\n",
      "Accuracy: 86.142857%, Avg loss: 0.440302 \n",
      "\n",
      "Loss: 0.760325  [    0/28000]\n",
      "Loss: 0.577125  [12800/28000]\n",
      "Loss: 0.750084  [25600/28000]\n",
      "------------ Test -----------\n",
      "Accuracy: 87.485714%, Avg loss: 0.396795 \n",
      "\n",
      "Loss: 0.699569  [    0/28000]\n",
      "Loss: 0.673463  [12800/28000]\n",
      "Loss: 0.462619  [25600/28000]\n",
      "------------ Test -----------\n",
      "Accuracy: 87.157143%, Avg loss: 0.397744 \n",
      "\n",
      "Loss: 0.611858  [    0/28000]\n",
      "Loss: 0.597115  [12800/28000]\n",
      "Loss: 0.554663  [25600/28000]\n",
      "------------ Test -----------\n",
      "Accuracy: 85.514286%, Avg loss: 0.409416 \n",
      "\n",
      "Loss: 0.682995  [    0/28000]\n",
      "Loss: 0.547003  [12800/28000]\n",
      "Loss: 0.550481  [25600/28000]\n",
      "------------ Test -----------\n",
      "Accuracy: 86.142857%, Avg loss: 0.410184 \n",
      "\n",
      "Loss: 0.470065  [    0/28000]\n",
      "Loss: 0.477753  [12800/28000]\n",
      "Loss: 0.495501  [25600/28000]\n",
      "------------ Test -----------\n",
      "Accuracy: 88.928571%, Avg loss: 0.349183 \n",
      "\n",
      "Loss: 0.499671  [    0/28000]\n",
      "Loss: 0.610457  [12800/28000]\n",
      "Loss: 0.483728  [25600/28000]\n",
      "------------ Test -----------\n",
      "Accuracy: 90.571429%, Avg loss: 0.312116 \n",
      "\n",
      "Loss: 0.405288  [    0/28000]\n",
      "Loss: 0.429127  [12800/28000]\n",
      "Loss: 0.534558  [25600/28000]\n",
      "------------ Test -----------\n",
      "Accuracy: 89.285714%, Avg loss: 0.336852 \n",
      "\n",
      "Loss: 0.457604  [    0/28000]\n",
      "Loss: 0.655779  [12800/28000]\n",
      "Loss: 0.497320  [25600/28000]\n",
      "------------ Test -----------\n",
      "Accuracy: 88.814286%, Avg loss: 0.345988 \n",
      "\n",
      "Loss: 0.602434  [    0/28000]\n",
      "Loss: 0.374224  [12800/28000]\n",
      "Loss: 0.434019  [25600/28000]\n",
      "------------ Test -----------\n",
      "Accuracy: 89.271429%, Avg loss: 0.329277 \n",
      "\n",
      "Loss: 0.466547  [    0/28000]\n",
      "Loss: 0.465899  [12800/28000]\n",
      "Loss: 0.510172  [25600/28000]\n",
      "------------ Test -----------\n",
      "Accuracy: 90.157143%, Avg loss: 0.310978 \n",
      "\n"
     ]
    }
   ],
   "source": [
    "# Realworld\n",
    "train_realworld_acc = []\n",
    "train_realworld_loss = []\n",
    "val_realworld_acc = []\n",
    "val_realworld_loss = []\n",
    "\n",
    "for epoch in range(num_epoch):\n",
    "  train_acc, train_loss = train(trainloader, model, criterion, optimizer)\n",
    "  val_acc, val_loss = test(testloader, model, criterion)\n",
    "  train_realworld_acc.append(train_acc)\n",
    "  train_realworld_loss.append(train_loss)\n",
    "  val_realworld_acc.append(val_acc)\n",
    "  val_realworld_loss.append(val_loss)"
   ]
  },
  {
   "cell_type": "code",
   "execution_count": null,
   "id": "9nm1i3Y4ex6l",
   "metadata": {
    "colab": {
     "base_uri": "https://localhost:8080/",
     "height": 545
    },
    "executionInfo": {
     "elapsed": 800,
     "status": "ok",
     "timestamp": 1668561347800,
     "user": {
      "displayName": "S Fan",
      "userId": "12533267099099146412"
     },
     "user_tz": -480
    },
    "id": "9nm1i3Y4ex6l",
    "outputId": "681844ce-73ed-4a99-b790-3f2d0f1ec00e"
   },
   "outputs": [
    {
     "data": {
      "image/png": "[encoded data removed]",
      "text/plain": [
       "<Figure size 432x288 with 1 Axes>"
      ]
     },
     "metadata": {
      "needs_background": "light"
     },
     "output_type": "display_data"
    },
    {
     "data": {
      "image/png": "[encoded data removed]",
      "text/plain": [
       "<Figure size 432x288 with 1 Axes>"
      ]
     },
     "metadata": {
      "needs_background": "light"
     },
     "output_type": "display_data"
    }
   ],
   "source": [
    "epoches = [i for i in range(num_epoch)]\n",
    "plt.plot(epoches, train_realworld_loss, label=\"train loss\")\n",
    "plt.plot(epoches, val_realworld_loss, label=\"validation loss\")\n",
    "plt.legend()\n",
    "plt.title('Loss curve')\n",
    "plt.show()\n",
    "\n",
    "plt.plot(epoches, train_realworld_acc, label=\"train accuracy\")\n",
    "plt.plot(epoches, val_realworld_acc, label=\"validation accuracy\")\n",
    "plt.legend()\n",
    "plt.title('Accuracy curve')\n",
    "plt.show()"
   ]
  },
  {
   "cell_type": "code",
   "execution_count": null,
   "id": "Asdm8fiPf2DE",
   "metadata": {
    "id": "Asdm8fiPf2DE"
   },
   "outputs": [],
   "source": [
    "torch.save(model, sys.path[0]+'/CNN_realworld_dropout0.1_model.pth')"
   ]
  },
  {
   "cell_type": "code",
   "execution_count": null,
   "id": "msiX8uyJfGBP",
   "metadata": {
    "colab": {
     "base_uri": "https://localhost:8080/"
    },
    "executionInfo": {
     "elapsed": 5,
     "status": "ok",
     "timestamp": 1668561377281,
     "user": {
      "displayName": "S Fan",
      "userId": "12533267099099146412"
     },
     "user_tz": -480
    },
    "id": "msiX8uyJfGBP",
    "outputId": "818a6520-85ba-44b8-f6a4-d7a742f33af2"
   },
   "outputs": [
    {
     "name": "stdout",
     "output_type": "stream",
     "text": [
      "[0.31614285714285717, 0.42689285714285713, 0.47882142857142856, 0.5278214285714286, 0.58125, 0.6200357142857142, 0.6399642857142858, 0.6584642857142857, 0.6792857142857143, 0.6973928571428571, 0.7058571428571428, 0.71775, 0.7316785714285714, 0.7384285714285714, 0.7454285714285714, 0.7545714285714286, 0.7598214285714285, 0.7689642857142858, 0.7782142857142857, 0.7801785714285714, 0.7879285714285714, 0.7961785714285714, 0.7982142857142858, 0.8049642857142857, 0.8098571428571428, 0.8105357142857142, 0.8181071428571428, 0.8229642857142857, 0.8265714285714286, 0.8286428571428571]\n",
      "[1.6123099331851216, 1.3922672267117087, 1.3023140357173906, 1.2054928042627546, 1.111966607757683, 1.0316336684104297, 0.9800652794102673, 0.930362769696466, 0.881961694930089, 0.8404412081757224, 0.8139476712415161, 0.7877216535578468, 0.7558271506331464, 0.7377903890501959, 0.7186614099227152, 0.6968633467683399, 0.678126681202065, 0.65775541190736, 0.6364148512129679, 0.6287812284631231, 0.6130138385360714, 0.5919615573122716, 0.5853574040930865, 0.5642364442810454, 0.5519595798393357, 0.5422755339043485, 0.5288782191189455, 0.5181545794823912, 0.5107754628966079, 0.5049673377649042]\n",
      "[0.3882857142857143, 0.4627142857142857, 0.5371428571428571, 0.5848571428571429, 0.5971428571428572, 0.6638571428571428, 0.696, 0.6782857142857143, 0.7302857142857143, 0.7744285714285715, 0.7774285714285715, 0.7917142857142857, 0.8288571428571428, 0.8258571428571428, 0.8161428571428572, 0.8375714285714285, 0.8554285714285714, 0.8702857142857143, 0.8624285714285714, 0.8614285714285714, 0.8748571428571429, 0.8715714285714286, 0.8551428571428571, 0.8614285714285714, 0.8892857142857142, 0.9057142857142857, 0.8928571428571429, 0.8881428571428571, 0.8927142857142857, 0.9015714285714286]\n",
      "[1.4132459902260375, 1.2925555307515282, 1.1954992043152683, 1.0834991960060854, 1.025490020548161, 0.9096886565002963, 0.8340734473381244, 0.8627178474645525, 0.7473656160558345, 0.6673662387377433, 0.6355500931353922, 0.6164094263748479, 0.5313801727082775, 0.5176990034794261, 0.5539335926141983, 0.4699375503327502, 0.43936419833029683, 0.42365144051335724, 0.42783193392708924, 0.4403015855868797, 0.396794891561809, 0.3977440873434611, 0.40941627686177745, 0.41018445614097354, 0.34918315742041167, 0.3121161327126907, 0.33685160886134813, 0.3459877573234256, 0.32927658893610556, 0.3109783858819997]\n"
     ]
    }
   ],
   "source": [
    "print(train_realworld_acc)\n",
    "print(train_realworld_loss)\n",
    "print(val_realworld_acc)\n",
    "print(val_realworld_loss)"
   ]
  },
  {
   "cell_type": "markdown",
   "id": "uf3iKBAgLHrN",
   "metadata": {
    "id": "uf3iKBAgLHrN"
   },
   "source": [
    "## 7. Search Engine Accuracy"
   ]
  },
  {
   "cell_type": "code",
   "execution_count": null,
   "id": "Q3BhyJf-1KZH",
   "metadata": {
    "id": "Q3BhyJf-1KZH"
   },
   "outputs": [],
   "source": [
    "QURIES = ['pineapple', 'apple', 'banana', 'strawberry', 'pear', 'watermelon', 'grapes']  \n",
    "test_quickdraw_dir = sys.path[0]+'/compressed_quickdraw_test.npz'\n",
    "test_quickdraw = ImageDataset(test_quickdraw_dir, QURIES, image_size = 32, class_size = 1000)\n",
    "quickdraw_testloader = DataLoader(test_quickdraw, batch_size=128, shuffle=True, pin_memory=True, num_workers=32)\n",
    "\n",
    "test_realworld_dir = sys.path[0]+'/compressed_realworld_test.npz'\n",
    "test_realworld = ImageDataset(test_realworld_dir, QURIES, image_size = 32, class_size = 1000)\n",
    "realworld_testloader = DataLoader(test_realworld, batch_size=128, shuffle=True, pin_memory=True, num_workers=32)"
   ]
  },
  {
   "cell_type": "code",
   "execution_count": null,
   "id": "iLCL3JKE2PPH",
   "metadata": {
    "colab": {
     "base_uri": "https://localhost:8080/"
    },
    "executionInfo": {
     "elapsed": 1760,
     "status": "ok",
     "timestamp": 1668561831024,
     "user": {
      "displayName": "S Fan",
      "userId": "12533267099099146412"
     },
     "user_tz": -480
    },
    "id": "iLCL3JKE2PPH",
    "outputId": "f63f60d7-9280-4d3b-e158-1721d4aa7048"
   },
   "outputs": [
    {
     "data": {
      "text/plain": [
       "CNN(\n",
       "  (conv1): Conv2d(3, 16, kernel_size=(3, 3), stride=(1, 1), padding=(1, 1))\n",
       "  (conv2): Conv2d(16, 16, kernel_size=(3, 3), stride=(1, 1), padding=(1, 1))\n",
       "  (conv3): Conv2d(16, 32, kernel_size=(3, 3), stride=(1, 1), padding=(1, 1))\n",
       "  (conv4): Conv2d(32, 32, kernel_size=(3, 3), stride=(1, 1), padding=(1, 1))\n",
       "  (conv5): Conv2d(32, 64, kernel_size=(3, 3), stride=(1, 1), padding=(1, 1))\n",
       "  (conv6): Conv2d(64, 64, kernel_size=(3, 3), stride=(1, 1), padding=(1, 1))\n",
       "  (conv7): Conv2d(64, 128, kernel_size=(3, 3), stride=(1, 1), padding=(1, 1))\n",
       "  (conv8): Conv2d(128, 128, kernel_size=(3, 3), stride=(1, 1), padding=(1, 1))\n",
       "  (flatten): Flatten(start_dim=1, end_dim=3)\n",
       "  (dropout): Dropout(p=0.1, inplace=False)\n",
       "  (fc1): Linear(in_features=128, out_features=7, bias=True)\n",
       ")"
      ]
     },
     "execution_count": 9,
     "metadata": {},
     "output_type": "execute_result"
    }
   ],
   "source": [
    "device = torch.device(\"cuda\" if torch.cuda.is_available() else \"cpu\")\n",
    "quickdraw_model=torch.load(sys.path[0]+'/CNN_quickdraw_dropout0.1_model.pth')\n",
    "quickdraw_model.eval()"
   ]
  },
  {
   "cell_type": "code",
   "execution_count": null,
   "id": "MqwsW-On2ktP",
   "metadata": {
    "colab": {
     "base_uri": "https://localhost:8080/"
    },
    "executionInfo": {
     "elapsed": 1068,
     "status": "ok",
     "timestamp": 1668561833447,
     "user": {
      "displayName": "S Fan",
      "userId": "12533267099099146412"
     },
     "user_tz": -480
    },
    "id": "MqwsW-On2ktP",
    "outputId": "e419ec7c-eb0a-4eaf-8354-91bb72671cb9"
   },
   "outputs": [
    {
     "data": {
      "text/plain": [
       "CNN(\n",
       "  (conv1): Conv2d(3, 16, kernel_size=(3, 3), stride=(1, 1), padding=(1, 1))\n",
       "  (conv2): Conv2d(16, 16, kernel_size=(3, 3), stride=(1, 1), padding=(1, 1))\n",
       "  (conv3): Conv2d(16, 32, kernel_size=(3, 3), stride=(1, 1), padding=(1, 1))\n",
       "  (conv4): Conv2d(32, 32, kernel_size=(3, 3), stride=(1, 1), padding=(1, 1))\n",
       "  (conv5): Conv2d(32, 64, kernel_size=(3, 3), stride=(1, 1), padding=(1, 1))\n",
       "  (conv6): Conv2d(64, 64, kernel_size=(3, 3), stride=(1, 1), padding=(1, 1))\n",
       "  (conv7): Conv2d(64, 128, kernel_size=(3, 3), stride=(1, 1), padding=(1, 1))\n",
       "  (conv8): Conv2d(128, 128, kernel_size=(3, 3), stride=(1, 1), padding=(1, 1))\n",
       "  (flatten): Flatten(start_dim=1, end_dim=3)\n",
       "  (dropout): Dropout(p=0.1, inplace=False)\n",
       "  (fc1): Linear(in_features=128, out_features=7, bias=True)\n",
       ")"
      ]
     },
     "execution_count": 10,
     "metadata": {},
     "output_type": "execute_result"
    }
   ],
   "source": [
    "device = torch.device(\"cuda\" if torch.cuda.is_available() else \"cpu\")\n",
    "realworld_model=torch.load(sys.path[0]+'/CNN_realworld_dropout0.1_model.pth')\n",
    "realworld_model.eval()"
   ]
  },
  {
   "cell_type": "code",
   "execution_count": null,
   "id": "kPHRSWys1T-D",
   "metadata": {
    "colab": {
     "base_uri": "https://localhost:8080/"
    },
    "executionInfo": {
     "elapsed": 10861,
     "status": "ok",
     "timestamp": 1668561850768,
     "user": {
      "displayName": "S Fan",
      "userId": "12533267099099146412"
     },
     "user_tz": -480
    },
    "id": "kPHRSWys1T-D",
    "outputId": "e06d7b1f-1599-4f9c-94b6-5f7ef387155f"
   },
   "outputs": [
    {
     "name": "stdout",
     "output_type": "stream",
     "text": [
      "Accuracy of the network on the test images: 90 %\n"
     ]
    }
   ],
   "source": [
    "from collections import defaultdict \n",
    "features = defaultdict(list)\n",
    "\n",
    "correct = 0\n",
    "total = 0\n",
    "with torch.no_grad():\n",
    "    for data in quickdraw_testloader:\n",
    "        data['label'] = torch.argmax(data['label'].squeeze(),dim = 1)\n",
    "        images, labels = data['image'].to(device), data['label'].to(device)\n",
    "        outputs = quickdraw_model(images)\n",
    "        _, predicted = torch.max(outputs.data, 1)\n",
    "        total += labels.size(0)\n",
    "        correct += (predicted == labels).sum().item()\n",
    "\n",
    "        labels_sq = labels.tolist()\n",
    "        for i in range(outputs.shape[0]):\n",
    "              features[labels_sq[i]].append(outputs[i])\n",
    "\n",
    "print(f'Accuracy of the network on the test images: {100 * correct // total} %')"
   ]
  },
  {
   "cell_type": "code",
   "execution_count": null,
   "id": "b5eLqTUb1W95",
   "metadata": {
    "colab": {
     "base_uri": "https://localhost:8080/"
    },
    "executionInfo": {
     "elapsed": 7051,
     "status": "ok",
     "timestamp": 1668561882765,
     "user": {
      "displayName": "S Fan",
      "userId": "12533267099099146412"
     },
     "user_tz": -480
    },
    "id": "b5eLqTUb1W95",
    "outputId": "8de43d4b-7d07-437d-8ae2-1896ed812d5d"
   },
   "outputs": [
    {
     "name": "stdout",
     "output_type": "stream",
     "text": [
      "Accuracy of the network on the test images: 90 %\n"
     ]
    }
   ],
   "source": [
    "from collections import defaultdict \n",
    "features_real = defaultdict(list)\n",
    "\n",
    "correct = 0\n",
    "total = 0\n",
    "with torch.no_grad():\n",
    "    for data in realworld_testloader:\n",
    "        data['label'] = torch.argmax(data['label'].squeeze(),dim = 1)\n",
    "        images, labels = data['image'].to(device), data['label'].to(device)\n",
    "        outputs = realworld_model(images)\n",
    "        _, predicted = torch.max(outputs.data, 1)\n",
    "        total += labels.size(0)\n",
    "        correct += (predicted == labels).sum().item()\n",
    "\n",
    "        labels_sq = labels.tolist()\n",
    "        for i in range(outputs.shape[0]):\n",
    "              features_real[labels_sq[i]].append(outputs[i])\n",
    "\n",
    "print(f'Accuracy of the network on the test images: {100 * correct // total} %')"
   ]
  },
  {
   "cell_type": "code",
   "execution_count": null,
   "id": "uWNilXbj1R4W",
   "metadata": {
    "id": "uWNilXbj1R4W"
   },
   "outputs": [],
   "source": [
    "fea1 = torch.empty((7000,7))\n",
    "for i in range(len(features)):\n",
    "  fea1[i*1000:1000*(i+1)] = torch.stack(features[i])\n",
    "\n",
    "fea2 = torch.empty((7000,7))\n",
    "for i in range(len(features_real)):\n",
    "  fea2[i*1000:1000*(i+1)] = torch.stack(features_real[i])"
   ]
  },
  {
   "cell_type": "code",
   "execution_count": null,
   "id": "fFUqrVJD1RYT",
   "metadata": {
    "id": "fFUqrVJD1RYT"
   },
   "outputs": [],
   "source": [
    "def cos_similarity(k,fea2,fea1):\n",
    "  correct = 0\n",
    "  total = 0\n",
    "  real_matrix = F.normalize(fea2) \n",
    "  for idx, image in enumerate(fea1):\n",
    "    feature1 = image.reshape(1,-1)\n",
    "    a = F.normalize(feature1)\n",
    "    res = F.cosine_similarity(a,real_matrix)\n",
    "    _,predict = res.topk(k, largest=True, sorted=True)\n",
    "\n",
    "    correct += sum([idx//1000==i//1000 for i in predict]).item()\n",
    "    total += k\n",
    "\n",
    "  print(f\"Top {k}: accuracy {(correct/total):.3f}\")  "
   ]
  },
  {
   "cell_type": "code",
   "execution_count": null,
   "id": "Q8ljQuNs4PcY",
   "metadata": {
    "colab": {
     "base_uri": "https://localhost:8080/"
    },
    "executionInfo": {
     "elapsed": 29106,
     "status": "ok",
     "timestamp": 1668561919338,
     "user": {
      "displayName": "S Fan",
      "userId": "12533267099099146412"
     },
     "user_tz": -480
    },
    "id": "Q8ljQuNs4PcY",
    "outputId": "6cc241be-3ae4-4924-a829-6e375e9617c3"
   },
   "outputs": [
    {
     "name": "stdout",
     "output_type": "stream",
     "text": [
      "Top 1: accuracy 0.686\n",
      "Top 3: accuracy 0.752\n",
      "Top 5: accuracy 0.783\n",
      "Top 10: accuracy 0.813\n",
      "Top 20: accuracy 0.823\n"
     ]
    }
   ],
   "source": [
    "for k_choice in [1,3,5,10,20]:\n",
    "  cos_similarity(k_choice,fea2,fea1)"
   ]
  },
  {
   "cell_type": "code",
   "execution_count": null,
   "id": "fm6iB_5d4iuJ",
   "metadata": {
    "id": "fm6iB_5d4iuJ"
   },
   "outputs": [],
   "source": [
    "epoches = [i for i in range(num_epoch)]\n",
    "train_quickdraw_loss = [1.946368353676669, 1.943228068532595, 1.4336128879104588, 0.9521191024662095, 0.7981378577569481, 0.6966544555688681, 0.6448520431642759, 0.6023464996166494, 0.5688845520529696, 0.549946906238268, 0.5243936430972657, 0.5064700133352247, 0.492168615512334, 0.4652590140447692, 0.4438146128664885, 0.43073290431649164, 0.4205563779993464, 0.4119964853721896, 0.39670644089289614, 0.37934440137931935, 0.3746311097019976, 0.36193650030792124, 0.34657029993386496, 0.34036882502716104, 0.3308548113960638, 0.3248450318423981, 0.31825273047457003, 0.31237148964129774, 0.30590066043531305, 0.29900065596417075]\n",
    "train_quickdraw_acc = [0.1422142857142857, 0.1470357142857143, 0.43714285714285717, 0.6574285714285715, 0.7176428571428571, 0.7604285714285715, 0.7827857142857143, 0.7990714285714285, 0.8111071428571428, 0.8178571428571428, 0.8255714285714286, 0.8313571428571429, 0.8348214285714286, 0.8455, 0.8518928571428571, 0.8561428571428571, 0.859, 0.8621785714285715, 0.8698214285714285, 0.8742857142857143, 0.8776428571428572, 0.8808214285714285, 0.8838214285714285, 0.8887142857142857, 0.8881785714285715, 0.8910357142857143, 0.8953928571428571, 0.8969642857142858, 0.8975, 0.9015714285714286]\n",
    "val_quickdraw_loss = [1.945981197134584, 1.8115962988966383, 0.9915304646263484, 0.7937746992934599, 0.7052602761154304, 0.5863815622784597, 0.5746711335450609, 0.5274133835479494, 0.50201595750504, 0.5098599378068165, 0.4533196179482049, 0.440904623888973, 0.4174214763859512, 0.40929546389736643, 0.39283026067746796, 0.39046593887547615, 0.3727879921874595, 0.38515977963030285, 0.35523083138885153, 0.3388994205498418, 0.3296207852205441, 0.325426287555104, 0.31648352945307046, 0.32340607940222266, 0.30415717867902314, 0.31463878390424865, 0.29632832907707857, 0.31273107686731366, 0.2910754261913434, 0.2828257133607599]\n",
    "val_quickdraw_acc = [0.14285714285714285, 0.31842857142857145, 0.639, 0.7261428571428571, 0.756, 0.8044285714285714, 0.8124285714285714, 0.8228571428571428, 0.829, 0.8268571428571428, 0.8497142857142858, 0.8481428571428572, 0.8584285714285714, 0.8597142857142858, 0.8667142857142857, 0.8714285714285714, 0.8704285714285714, 0.8684285714285714, 0.8775714285714286, 0.8847142857142857, 0.8872857142857142, 0.8877142857142857, 0.8901428571428571, 0.8908571428571429, 0.8961428571428571, 0.8941428571428571, 0.8987142857142857, 0.8948571428571429, 0.9045714285714286, 0.9038571428571428]\n",
    "train_realworld_acc = [0.31614285714285717, 0.42689285714285713, 0.47882142857142856, 0.5278214285714286, 0.58125, 0.6200357142857142, 0.6399642857142858, 0.6584642857142857, 0.6792857142857143, 0.6973928571428571, 0.7058571428571428, 0.71775, 0.7316785714285714, 0.7384285714285714, 0.7454285714285714, 0.7545714285714286, 0.7598214285714285, 0.7689642857142858, 0.7782142857142857, 0.7801785714285714, 0.7879285714285714, 0.7961785714285714, 0.7982142857142858, 0.8049642857142857, 0.8098571428571428, 0.8105357142857142, 0.8181071428571428, 0.8229642857142857, 0.8265714285714286, 0.8286428571428571]\n",
    "train_realworld_loss = [1.6123099331851216, 1.3922672267117087, 1.3023140357173906, 1.2054928042627546, 1.111966607757683, 1.0316336684104297, 0.9800652794102673, 0.930362769696466, 0.881961694930089, 0.8404412081757224, 0.8139476712415161, 0.7877216535578468, 0.7558271506331464, 0.7377903890501959, 0.7186614099227152, 0.6968633467683399, 0.678126681202065, 0.65775541190736, 0.6364148512129679, 0.6287812284631231, 0.6130138385360714, 0.5919615573122716, 0.5853574040930865, 0.5642364442810454, 0.5519595798393357, 0.5422755339043485, 0.5288782191189455, 0.5181545794823912, 0.5107754628966079, 0.5049673377649042]\n",
    "val_realworld_acc = [0.3882857142857143, 0.4627142857142857, 0.5371428571428571, 0.5848571428571429, 0.5971428571428572, 0.6638571428571428, 0.696, 0.6782857142857143, 0.7302857142857143, 0.7744285714285715, 0.7774285714285715, 0.7917142857142857, 0.8288571428571428, 0.8258571428571428, 0.8161428571428572, 0.8375714285714285, 0.8554285714285714, 0.8702857142857143, 0.8624285714285714, 0.8614285714285714, 0.8748571428571429, 0.8715714285714286, 0.8551428571428571, 0.8614285714285714, 0.8892857142857142, 0.9057142857142857, 0.8928571428571429, 0.8881428571428571, 0.8927142857142857, 0.9015714285714286]\n",
    "val_realworld_loss = [1.4132459902260375, 1.2925555307515282, 1.1954992043152683, 1.0834991960060854, 1.025490020548161, 0.9096886565002963, 0.8340734473381244, 0.8627178474645525, 0.7473656160558345, 0.6673662387377433, 0.6355500931353922, 0.6164094263748479, 0.5313801727082775, 0.5176990034794261, 0.5539335926141983, 0.4699375503327502, 0.43936419833029683, 0.42365144051335724, 0.42783193392708924, 0.4403015855868797, 0.396794891561809, 0.3977440873434611, 0.40941627686177745, 0.41018445614097354, 0.34918315742041167, 0.3121161327126907, 0.33685160886134813, 0.3459877573234256, 0.32927658893610556, 0.3109783858819997]"
   ]
  },
  {
   "cell_type": "code",
   "execution_count": null,
   "id": "-rsvGIJx4hgj",
   "metadata": {
    "id": "-rsvGIJx4hgj"
   },
   "outputs": [],
   "source": [
    "import pickle\n",
    "\n",
    "model_history = {\n",
    "    \"epoch\": epoches,\n",
    "    \"train_loss\": [],\n",
    "    \"train_acc\": [],\n",
    "    \"val_loss\": [],\n",
    "    \"val_acc\": [],\n",
    "\n",
    "    \"train_realworld_acc\": train_realworld_acc,\n",
    "    \"train_quickdraw_acc\": train_quickdraw_acc,\n",
    "    \"val_realworld_acc\": val_realworld_acc,\n",
    "    \"val_quickdraw_acc\": val_quickdraw_acc,\n",
    "    \"train_realworld_loss\": train_realworld_loss,\n",
    "    \"train_quickdraw_loss\": train_quickdraw_loss,\n",
    "    \"val_realworld_loss\": val_realworld_loss,\n",
    "    \"val_quickdraw_loss\": val_quickdraw_loss,\n",
    "    \"k_choice\": [1,3,5,10,20],\n",
    "    \"topk_acc\": [0.686,0.752,0.783,0.813,0.823]\n",
    "}\n",
    "\n",
    "def save_model_history(metrics, filepath):\n",
    "    with open(filepath, 'wb') as file:\n",
    "        pickle.dump(metrics, file)\n",
    "\n",
    "def load_model_history(filepath):\n",
    "    with open(filepath, 'rb') as file:\n",
    "        metrics = pickle.load(file)\n",
    "    return metrics\n",
    "\n",
    "save_model_history(model_history, sys.path[0]+'/CNN_dropout0.1_data.pkl')"
   ]
  },
  {
   "cell_type": "code",
   "execution_count": null,
   "id": "IWV4trxR7Lfw",
   "metadata": {
    "colab": {
     "base_uri": "https://localhost:8080/"
    },
    "executionInfo": {
     "elapsed": 383,
     "status": "ok",
     "timestamp": 1668562268891,
     "user": {
      "displayName": "S Fan",
      "userId": "12533267099099146412"
     },
     "user_tz": -480
    },
    "id": "IWV4trxR7Lfw",
    "outputId": "775d5650-1630-472e-98be-6dc716319a12"
   },
   "outputs": [
    {
     "name": "stdout",
     "output_type": "stream",
     "text": [
      "{'epoch': [0, 1, 2, 3, 4, 5, 6, 7, 8, 9, 10, 11, 12, 13, 14, 15, 16, 17, 18, 19, 20, 21, 22, 23, 24, 25, 26, 27, 28, 29], 'train_loss': [], 'train_acc': [], 'val_loss': [], 'val_acc': [], 'train_realworld_acc': [0.31614285714285717, 0.42689285714285713, 0.47882142857142856, 0.5278214285714286, 0.58125, 0.6200357142857142, 0.6399642857142858, 0.6584642857142857, 0.6792857142857143, 0.6973928571428571, 0.7058571428571428, 0.71775, 0.7316785714285714, 0.7384285714285714, 0.7454285714285714, 0.7545714285714286, 0.7598214285714285, 0.7689642857142858, 0.7782142857142857, 0.7801785714285714, 0.7879285714285714, 0.7961785714285714, 0.7982142857142858, 0.8049642857142857, 0.8098571428571428, 0.8105357142857142, 0.8181071428571428, 0.8229642857142857, 0.8265714285714286, 0.8286428571428571], 'train_quickdraw_acc': [0.1422142857142857, 0.1470357142857143, 0.43714285714285717, 0.6574285714285715, 0.7176428571428571, 0.7604285714285715, 0.7827857142857143, 0.7990714285714285, 0.8111071428571428, 0.8178571428571428, 0.8255714285714286, 0.8313571428571429, 0.8348214285714286, 0.8455, 0.8518928571428571, 0.8561428571428571, 0.859, 0.8621785714285715, 0.8698214285714285, 0.8742857142857143, 0.8776428571428572, 0.8808214285714285, 0.8838214285714285, 0.8887142857142857, 0.8881785714285715, 0.8910357142857143, 0.8953928571428571, 0.8969642857142858, 0.8975, 0.9015714285714286], 'val_realworld_acc': [0.3882857142857143, 0.4627142857142857, 0.5371428571428571, 0.5848571428571429, 0.5971428571428572, 0.6638571428571428, 0.696, 0.6782857142857143, 0.7302857142857143, 0.7744285714285715, 0.7774285714285715, 0.7917142857142857, 0.8288571428571428, 0.8258571428571428, 0.8161428571428572, 0.8375714285714285, 0.8554285714285714, 0.8702857142857143, 0.8624285714285714, 0.8614285714285714, 0.8748571428571429, 0.8715714285714286, 0.8551428571428571, 0.8614285714285714, 0.8892857142857142, 0.9057142857142857, 0.8928571428571429, 0.8881428571428571, 0.8927142857142857, 0.9015714285714286], 'val_quickdraw_acc': [0.14285714285714285, 0.31842857142857145, 0.639, 0.7261428571428571, 0.756, 0.8044285714285714, 0.8124285714285714, 0.8228571428571428, 0.829, 0.8268571428571428, 0.8497142857142858, 0.8481428571428572, 0.8584285714285714, 0.8597142857142858, 0.8667142857142857, 0.8714285714285714, 0.8704285714285714, 0.8684285714285714, 0.8775714285714286, 0.8847142857142857, 0.8872857142857142, 0.8877142857142857, 0.8901428571428571, 0.8908571428571429, 0.8961428571428571, 0.8941428571428571, 0.8987142857142857, 0.8948571428571429, 0.9045714285714286, 0.9038571428571428], 'train_realworld_loss': [1.6123099331851216, 1.3922672267117087, 1.3023140357173906, 1.2054928042627546, 1.111966607757683, 1.0316336684104297, 0.9800652794102673, 0.930362769696466, 0.881961694930089, 0.8404412081757224, 0.8139476712415161, 0.7877216535578468, 0.7558271506331464, 0.7377903890501959, 0.7186614099227152, 0.6968633467683399, 0.678126681202065, 0.65775541190736, 0.6364148512129679, 0.6287812284631231, 0.6130138385360714, 0.5919615573122716, 0.5853574040930865, 0.5642364442810454, 0.5519595798393357, 0.5422755339043485, 0.5288782191189455, 0.5181545794823912, 0.5107754628966079, 0.5049673377649042], 'train_quickdraw_loss': [1.946368353676669, 1.943228068532595, 1.4336128879104588, 0.9521191024662095, 0.7981378577569481, 0.6966544555688681, 0.6448520431642759, 0.6023464996166494, 0.5688845520529696, 0.549946906238268, 0.5243936430972657, 0.5064700133352247, 0.492168615512334, 0.4652590140447692, 0.4438146128664885, 0.43073290431649164, 0.4205563779993464, 0.4119964853721896, 0.39670644089289614, 0.37934440137931935, 0.3746311097019976, 0.36193650030792124, 0.34657029993386496, 0.34036882502716104, 0.3308548113960638, 0.3248450318423981, 0.31825273047457003, 0.31237148964129774, 0.30590066043531305, 0.29900065596417075], 'val_realworld_loss': [1.4132459902260375, 1.2925555307515282, 1.1954992043152683, 1.0834991960060854, 1.025490020548161, 0.9096886565002963, 0.8340734473381244, 0.8627178474645525, 0.7473656160558345, 0.6673662387377433, 0.6355500931353922, 0.6164094263748479, 0.5313801727082775, 0.5176990034794261, 0.5539335926141983, 0.4699375503327502, 0.43936419833029683, 0.42365144051335724, 0.42783193392708924, 0.4403015855868797, 0.396794891561809, 0.3977440873434611, 0.40941627686177745, 0.41018445614097354, 0.34918315742041167, 0.3121161327126907, 0.33685160886134813, 0.3459877573234256, 0.32927658893610556, 0.3109783858819997], 'val_quickdraw_loss': [1.945981197134584, 1.8115962988966383, 0.9915304646263484, 0.7937746992934599, 0.7052602761154304, 0.5863815622784597, 0.5746711335450609, 0.5274133835479494, 0.50201595750504, 0.5098599378068165, 0.4533196179482049, 0.440904623888973, 0.4174214763859512, 0.40929546389736643, 0.39283026067746796, 0.39046593887547615, 0.3727879921874595, 0.38515977963030285, 0.35523083138885153, 0.3388994205498418, 0.3296207852205441, 0.325426287555104, 0.31648352945307046, 0.32340607940222266, 0.30415717867902314, 0.31463878390424865, 0.29632832907707857, 0.31273107686731366, 0.2910754261913434, 0.2828257133607599], 'k_choice': [1, 3, 5, 10, 20], 'topk_acc': [0.686, 0.752, 0.783, 0.813, 0.823]}\n"
     ]
    }
   ],
   "source": [
    "model_history = load_model_history(sys.path[0]+'/CNN_dropout0.1_data.pkl')\n",
    "print(model_history)"
   ]
  }
 ],
 "metadata": {
  "accelerator": "GPU",
  "colab": {
   "provenance": [],
   "toc_visible": true
  },
  "gpuClass": "standard",
  "kernelspec": {
   "display_name": "base",
   "language": "python",
   "name": "myenv"
  },
  "language_info": {
   "codemirror_mode": {
    "name": "ipython",
    "version": 3
   },
   "file_extension": ".py",
   "mimetype": "text/x-python",
   "name": "python",
   "nbconvert_exporter": "python",
   "pygments_lexer": "ipython3",
   "version": "3.9.12"
  }
 },
 "nbformat": 4,
 "nbformat_minor": 5
}
