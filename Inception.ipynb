{
 "cells": [
  {
   "cell_type": "markdown",
   "id": "LnhldXGjMFSf",
   "metadata": {
    "id": "LnhldXGjMFSf"
   },
   "source": [
    "# Inception"
   ]
  },
  {
   "cell_type": "markdown",
   "id": "ftp9l-KRMJKQ",
   "metadata": {
    "id": "ftp9l-KRMJKQ"
   },
   "source": [
    "## 1. Import libraries"
   ]
  },
  {
   "cell_type": "code",
   "execution_count": null,
   "id": "tzdbu-CAZcn9",
   "metadata": {
    "colab": {
     "base_uri": "https://localhost:8080/"
    },
    "executionInfo": {
     "elapsed": 21700,
     "status": "ok",
     "timestamp": 1668528521920,
     "user": {
      "displayName": "S Fan",
      "userId": "12533267099099146412"
     },
     "user_tz": -480
    },
    "id": "tzdbu-CAZcn9",
    "outputId": "6e78e630-bd8e-43ce-a4ec-81a2d50950f3"
   },
   "outputs": [
    {
     "name": "stdout",
     "output_type": "stream",
     "text": [
      "Mounted at /content/drive\n"
     ]
    }
   ],
   "source": [
    "from google.colab import drive\n",
    "drive.mount('/content/drive') \n",
    "\n",
    "import sys,os\n",
    "import fnmatch\n",
    "sys.path.insert(0,'/content/drive/My Drive/5242_final_project')"
   ]
  },
  {
   "cell_type": "code",
   "execution_count": null,
   "id": "ca427d6c",
   "metadata": {
    "id": "ca427d6c"
   },
   "outputs": [],
   "source": [
    "import numpy as np\n",
    "import os\n",
    "import matplotlib.pyplot as plt\n",
    "import torch\n",
    "import torch.nn as nn\n",
    "import torch.nn.functional as F\n",
    "from torch.utils.data import Dataset, DataLoader, Sampler\n",
    "from torchvision import transforms\n",
    "import torch\n",
    "import random\n",
    "import pandas as pd\n",
    "from collections import defaultdict \n",
    "from types import SimpleNamespace"
   ]
  },
  {
   "cell_type": "markdown",
   "id": "8PD_DYUWMlkr",
   "metadata": {
    "id": "8PD_DYUWMlkr"
   },
   "source": [
    "## 2. Load our dataset structure"
   ]
  },
  {
   "cell_type": "code",
   "execution_count": null,
   "id": "c4f40eaf",
   "metadata": {
    "id": "c4f40eaf"
   },
   "outputs": [],
   "source": [
    "class ImageDataset(Dataset):\n",
    "\n",
    "    def __init__(self, img_dir, fruit_category, image_size = 255, class_size = 5000, transform = False):\n",
    "        self.img_dir = img_dir\n",
    "        self.transform = transform\n",
    "        self.fruit_category = fruit_category\n",
    "        self.class_size = class_size\n",
    "        self.data_dict = dict(np.load(img_dir))\n",
    "        self.image_size = image_size\n",
    "        \n",
    "        self.transform_img = transforms.Compose([transforms.ToPILImage(),\n",
    "                                                transforms.Resize(image_size),\n",
    "                                                transforms.ToTensor()])\n",
    "        self.transform_label = transforms.Compose([transforms.ToTensor()])\n",
    "        \n",
    "    def __len__(self):\n",
    "        return self.class_size * len(self.fruit_category)\n",
    "\n",
    "    def __getitem__(self, idx):\n",
    "        if torch.is_tensor(idx):\n",
    "            idx = idx.tolist()\n",
    "        \n",
    "        class_index = int(idx // self.class_size)\n",
    "        category =  self.fruit_category[class_index]\n",
    "        category_idx = int(idx % self.class_size)\n",
    "        \n",
    "        label = np.zeros((len(self.fruit_category), 1))\n",
    "        label[class_index] = 1\n",
    "        \n",
    "        image_ary =  self.data_dict[category][category_idx]\n",
    "        \n",
    "        sample = {'image': image_ary, 'label': label}\n",
    "        if self.transform:\n",
    "            sample['image'] = self.transform_img(sample['image'])\n",
    "            sample['label'] = self.transform_label(sample['label'])\n",
    "        return sample "
   ]
  },
  {
   "cell_type": "markdown",
   "id": "wqtMqwlSM9It",
   "metadata": {
    "id": "wqtMqwlSM9It"
   },
   "source": [
    "## 3. Build CNN model structure"
   ]
  },
  {
   "cell_type": "code",
   "execution_count": null,
   "id": "NnzJ7WGw8wDE",
   "metadata": {
    "id": "NnzJ7WGw8wDE"
   },
   "outputs": [],
   "source": [
    "act_fn_by_name = {\n",
    "    \"tanh\": nn.Tanh,\n",
    "    \"relu\": nn.ReLU,\n",
    "    \"leakyrelu\": nn.LeakyReLU,\n",
    "    \"gelu\": nn.GELU\n",
    "}"
   ]
  },
  {
   "cell_type": "code",
   "execution_count": null,
   "id": "F3K-_oppfFZc",
   "metadata": {
    "id": "F3K-_oppfFZc"
   },
   "outputs": [],
   "source": [
    "class InceptionBlock(nn.Module):\n",
    "\n",
    "    def __init__(self, c_in, c_red : dict, c_out : dict, act_fn):\n",
    "        \"\"\"\n",
    "        Inputs:\n",
    "            c_in - Number of input feature maps from the previous layers\n",
    "            c_red - Dictionary with keys \"3x3\" and \"5x5\" specifying the output of the dimensionality reducing 1x1 convolutions\n",
    "            c_out - Dictionary with keys \"1x1\", \"3x3\", \"5x5\", and \"max\"\n",
    "            act_fn - Activation class constructor (e.g. nn.ReLU)\n",
    "        \"\"\"\n",
    "        super().__init__()\n",
    "\n",
    "        self.conv_1x1 = nn.Sequential(\n",
    "            nn.Conv2d(c_in, c_out[\"1x1\"], kernel_size=1),\n",
    "            nn.BatchNorm2d(c_out[\"1x1\"]),\n",
    "            act_fn()\n",
    "        )\n",
    "\n",
    "        self.conv_3x3 = nn.Sequential(\n",
    "            nn.Conv2d(c_in, c_red[\"3x3\"], kernel_size=1),\n",
    "            nn.BatchNorm2d(c_red[\"3x3\"]),\n",
    "            act_fn(),\n",
    "            nn.Conv2d(c_red[\"3x3\"], c_out[\"3x3\"], kernel_size=3, padding=1),\n",
    "            nn.BatchNorm2d(c_out[\"3x3\"]),\n",
    "            act_fn()\n",
    "        )\n",
    "\n",
    "        self.conv_5x5 = nn.Sequential(\n",
    "            nn.Conv2d(c_in, c_red[\"5x5\"], kernel_size=1),\n",
    "            nn.BatchNorm2d(c_red[\"5x5\"]),\n",
    "            act_fn(),\n",
    "            nn.Conv2d(c_red[\"5x5\"], c_out[\"5x5\"], kernel_size=5, padding=2),\n",
    "            nn.BatchNorm2d(c_out[\"5x5\"]),\n",
    "            act_fn()\n",
    "        )\n",
    "\n",
    "        self.max_pool = nn.Sequential(\n",
    "            nn.MaxPool2d(kernel_size=3, padding=1, stride=1),\n",
    "            nn.Conv2d(c_in, c_out[\"max\"], kernel_size=1),\n",
    "            nn.BatchNorm2d(c_out[\"max\"]),\n",
    "            act_fn()\n",
    "        )\n",
    "\n",
    "    def forward(self, x):\n",
    "        x_1x1 = self.conv_1x1(x)\n",
    "        x_3x3 = self.conv_3x3(x)\n",
    "        x_5x5 = self.conv_5x5(x)\n",
    "        x_max = self.max_pool(x)\n",
    "        x_out = torch.cat([x_1x1, x_3x3, x_5x5, x_max], dim=1)\n",
    "        return x_out\n",
    "\n",
    "class Inception(nn.Module):\n",
    "\n",
    "    def __init__(self, num_classes=7, act_fn_name=\"relu\", **kwargs):\n",
    "        super().__init__()\n",
    "        self.hparams = SimpleNamespace(num_classes=num_classes,\n",
    "                                       act_fn_name=act_fn_name,\n",
    "                                       act_fn=act_fn_by_name[act_fn_name])\n",
    "        self._create_network()\n",
    "        self._init_params()\n",
    "\n",
    "    def _create_network(self):\n",
    "        self.input_net = nn.Sequential(\n",
    "            nn.Conv2d(3, 64, kernel_size=3, padding=1),\n",
    "            nn.BatchNorm2d(64),\n",
    "            self.hparams.act_fn()\n",
    "        )\n",
    "        self.inception_blocks = nn.Sequential(\n",
    "            InceptionBlock(64, c_red={\"3x3\": 32, \"5x5\": 16}, c_out={\"1x1\": 16, \"3x3\": 32, \"5x5\": 8, \"max\": 8}, act_fn=self.hparams.act_fn),\n",
    "            InceptionBlock(64, c_red={\"3x3\": 32, \"5x5\": 16}, c_out={\"1x1\": 24, \"3x3\": 48, \"5x5\": 12, \"max\": 12}, act_fn=self.hparams.act_fn),\n",
    "            nn.MaxPool2d(3, stride=2, padding=1), \n",
    "            InceptionBlock(96, c_red={\"3x3\": 32, \"5x5\": 16}, c_out={\"1x1\": 24, \"3x3\": 48, \"5x5\": 12, \"max\": 12}, act_fn=self.hparams.act_fn),\n",
    "            InceptionBlock(96, c_red={\"3x3\": 32, \"5x5\": 16}, c_out={\"1x1\": 16, \"3x3\": 48, \"5x5\": 16, \"max\": 16}, act_fn=self.hparams.act_fn),\n",
    "            InceptionBlock(96, c_red={\"3x3\": 32, \"5x5\": 16}, c_out={\"1x1\": 16, \"3x3\": 48, \"5x5\": 16, \"max\": 16}, act_fn=self.hparams.act_fn),\n",
    "            InceptionBlock(96, c_red={\"3x3\": 32, \"5x5\": 16}, c_out={\"1x1\": 32, \"3x3\": 48, \"5x5\": 24, \"max\": 24}, act_fn=self.hparams.act_fn),\n",
    "            nn.MaxPool2d(3, stride=2, padding=1), \n",
    "            InceptionBlock(128, c_red={\"3x3\": 48, \"5x5\": 16}, c_out={\"1x1\": 32, \"3x3\": 64, \"5x5\": 16, \"max\": 16}, act_fn=self.hparams.act_fn),\n",
    "            InceptionBlock(128, c_red={\"3x3\": 48, \"5x5\": 16}, c_out={\"1x1\": 32, \"3x3\": 64, \"5x5\": 16, \"max\": 16}, act_fn=self.hparams.act_fn)\n",
    "        )\n",
    "        self.output_net = nn.Sequential(\n",
    "            nn.AdaptiveAvgPool2d((1, 1)),\n",
    "            nn.Flatten(),\n",
    "            nn.Linear(128, self.hparams.num_classes)\n",
    "        )\n",
    "\n",
    "    def _init_params(self):\n",
    "        for m in self.modules():\n",
    "            if isinstance(m, nn.Conv2d):\n",
    "                nn.init.kaiming_normal_(\n",
    "                    m.weight, nonlinearity=self.hparams.act_fn_name)\n",
    "            elif isinstance(m, nn.BatchNorm2d):\n",
    "                nn.init.constant_(m.weight, 1)\n",
    "                nn.init.constant_(m.bias, 0)\n",
    "\n",
    "    def forward(self, x):\n",
    "        x = self.input_net(x)\n",
    "        x = self.inception_blocks(x)\n",
    "        x = self.output_net(x)\n",
    "        return x"
   ]
  },
  {
   "cell_type": "markdown",
   "id": "yqRynuHgNFWg",
   "metadata": {
    "id": "yqRynuHgNFWg"
   },
   "source": [
    "##  4. Load train and validation data"
   ]
  },
  {
   "cell_type": "code",
   "execution_count": null,
   "id": "cbec27c0",
   "metadata": {
    "id": "cbec27c0"
   },
   "outputs": [],
   "source": [
    "# quickdraw\n",
    "QURIES = ['pineapple', 'apple', 'banana', 'strawberry', 'pear', 'watermelon', 'grapes']  \n",
    "\n",
    "train_quickdraw_dir = sys.path[0]+'/compressed_quickdraw_train.npz'\n",
    "train_quickdraw = ImageDataset(train_quickdraw_dir, QURIES, image_size = 32, class_size = 4000)\n",
    "trainloader = DataLoader(train_quickdraw, batch_size=128, shuffle=True, pin_memory=True, num_workers=32)\n",
    "test_quickdraw_dir = sys.path[0]+'/compressed_quickdraw_test.npz'\n",
    "test_quickdraw = ImageDataset(test_quickdraw_dir, QURIES, image_size = 32, class_size = 1000)\n",
    "testloader = DataLoader(test_quickdraw, batch_size=128, shuffle=True, pin_memory=True, num_workers=32)"
   ]
  },
  {
   "cell_type": "code",
   "execution_count": null,
   "id": "0OqDtzDEd0_1",
   "metadata": {
    "id": "0OqDtzDEd0_1"
   },
   "outputs": [],
   "source": [
    "# realworld\n",
    "QURIES = ['pineapple', 'apple', 'banana', 'strawberry', 'pear', 'watermelon', 'grapes']  \n",
    "\n",
    "train_realworld_dir = sys.path[0]+'/compressed_realworld_train.npz'\n",
    "train_realworld = ImageDataset(train_realworld_dir, QURIES, image_size = 32, class_size = 4000)\n",
    "trainloader = DataLoader(train_realworld, batch_size=128, shuffle=True, pin_memory=True, num_workers=32)\n",
    "test_realworld_dir = sys.path[0]+'/compressed_realworld_test.npz'\n",
    "test_realworld = ImageDataset(test_realworld_dir, QURIES, image_size = 32, class_size = 1000)\n",
    "testloader = DataLoader(test_realworld, batch_size=128, shuffle=True, pin_memory=True, num_workers=32)"
   ]
  },
  {
   "cell_type": "markdown",
   "id": "6u7YWgXDNOsK",
   "metadata": {
    "id": "6u7YWgXDNOsK"
   },
   "source": [
    "## 5. Training settings"
   ]
  },
  {
   "cell_type": "code",
   "execution_count": null,
   "id": "099977e2",
   "metadata": {
    "id": "099977e2"
   },
   "outputs": [],
   "source": [
    "num_epoch = 20\n",
    "batch_size = 128\n",
    "device = torch.device('cuda:0' if torch.cuda.is_available() else 'cpu')\n",
    "model =Inception().to(device)\n",
    "criterion = nn.CrossEntropyLoss()\n",
    "optimizer = torch.optim.Adam(model.parameters(), lr=0.00005)"
   ]
  },
  {
   "cell_type": "markdown",
   "id": "XihNcLhKNXi0",
   "metadata": {
    "id": "XihNcLhKNXi0"
   },
   "source": [
    "## 6. Train and Test Procedure "
   ]
  },
  {
   "cell_type": "code",
   "execution_count": null,
   "id": "tOe5AWWcVwoA",
   "metadata": {
    "id": "tOe5AWWcVwoA"
   },
   "outputs": [],
   "source": [
    "def train(dataloader, model, loss_fn, optimizer):\n",
    "    size = len(dataloader.dataset)\n",
    "    num_batches = len(dataloader)\n",
    "    model.train()\n",
    "    train_loss, correct = 0, 0\n",
    "    for _, data in enumerate(dataloader):\n",
    "        X, y = data['image'].to(device), data['label'].to(device)\n",
    "        y = y.squeeze()\n",
    "        pred = model(X)\n",
    "        loss = loss_fn(pred, y)\n",
    "        train_loss += loss.item()\n",
    "        correct += (pred.argmax(1) == y.argmax(1)).type(torch.float).sum().item()\n",
    "        optimizer.zero_grad()\n",
    "        loss.backward()\n",
    "        optimizer.step()\n",
    "        if (_ % 100 == 0):\n",
    "            loss, current = loss.item(), _ * len(X)\n",
    "            print(f\"Loss: {loss:>7f}  [{current:>5d}/{size:>5d}]\")\n",
    "    train_loss /= num_batches\n",
    "    correct /= size\n",
    "    return correct, train_loss\n",
    "\n",
    "def test(dataloader, model, loss_fn):\n",
    "    size = len(dataloader.dataset)\n",
    "    num_batches = len(dataloader)\n",
    "    model.eval()\n",
    "    test_loss, correct = 0, 0\n",
    "    with torch.no_grad():\n",
    "         for _, data in enumerate(dataloader):\n",
    "            X, y = data['image'].to(device), data['label'].to(device)\n",
    "            y = y.squeeze()\n",
    "            pred = model(X)\n",
    "            test_loss += loss_fn(pred, y).item()\n",
    "            correct += (pred.argmax(1) == y.argmax(1)).type(torch.float).sum().item()\n",
    "    test_loss /= num_batches\n",
    "    correct /= size\n",
    "    print(\"------------ Test -----------\")\n",
    "    print(f\"Accuracy: {(100*correct):>2f}%, Avg loss: {test_loss:>8f} \\n\")\n",
    "    return correct, test_loss"
   ]
  },
  {
   "cell_type": "code",
   "execution_count": null,
   "id": "WvzjzIRxV2Zb",
   "metadata": {
    "colab": {
     "base_uri": "https://localhost:8080/"
    },
    "executionInfo": {
     "elapsed": 680678,
     "status": "ok",
     "timestamp": 1668519815032,
     "user": {
      "displayName": "S Fan",
      "userId": "12533267099099146412"
     },
     "user_tz": -480
    },
    "id": "WvzjzIRxV2Zb",
    "outputId": "775157c4-6f69-4c1d-d618-1fd410219c28"
   },
   "outputs": [
    {
     "name": "stdout",
     "output_type": "stream",
     "text": [
      "Loss: 1.979322  [    0/28000]\n",
      "Loss: 1.547291  [12800/28000]\n",
      "Loss: 1.185307  [25600/28000]\n",
      "------------ Test -----------\n",
      "Accuracy: 75.042857%, Avg loss: 1.116914 \n",
      "\n",
      "Loss: 1.083005  [    0/28000]\n",
      "Loss: 0.887716  [12800/28000]\n",
      "Loss: 0.714453  [25600/28000]\n",
      "------------ Test -----------\n",
      "Accuracy: 83.928571%, Avg loss: 0.708867 \n",
      "\n",
      "Loss: 0.803748  [    0/28000]\n",
      "Loss: 0.618932  [12800/28000]\n",
      "Loss: 0.492610  [25600/28000]\n",
      "------------ Test -----------\n",
      "Accuracy: 87.128571%, Avg loss: 0.519817 \n",
      "\n",
      "Loss: 0.429238  [    0/28000]\n",
      "Loss: 0.515026  [12800/28000]\n",
      "Loss: 0.496616  [25600/28000]\n",
      "------------ Test -----------\n",
      "Accuracy: 89.028571%, Avg loss: 0.420971 \n",
      "\n",
      "Loss: 0.405140  [    0/28000]\n",
      "Loss: 0.386883  [12800/28000]\n",
      "Loss: 0.413283  [25600/28000]\n",
      "------------ Test -----------\n",
      "Accuracy: 89.671429%, Avg loss: 0.375614 \n",
      "\n",
      "Loss: 0.343990  [    0/28000]\n",
      "Loss: 0.364815  [12800/28000]\n",
      "Loss: 0.289328  [25600/28000]\n",
      "------------ Test -----------\n",
      "Accuracy: 90.557143%, Avg loss: 0.335429 \n",
      "\n",
      "Loss: 0.297787  [    0/28000]\n",
      "Loss: 0.314210  [12800/28000]\n",
      "Loss: 0.352405  [25600/28000]\n",
      "------------ Test -----------\n",
      "Accuracy: 91.200000%, Avg loss: 0.304507 \n",
      "\n",
      "Loss: 0.217853  [    0/28000]\n",
      "Loss: 0.294732  [12800/28000]\n",
      "Loss: 0.268607  [25600/28000]\n",
      "------------ Test -----------\n",
      "Accuracy: 91.214286%, Avg loss: 0.290658 \n",
      "\n",
      "Loss: 0.251877  [    0/28000]\n",
      "Loss: 0.238316  [12800/28000]\n",
      "Loss: 0.272927  [25600/28000]\n",
      "------------ Test -----------\n",
      "Accuracy: 91.285714%, Avg loss: 0.281374 \n",
      "\n",
      "Loss: 0.279979  [    0/28000]\n",
      "Loss: 0.182107  [12800/28000]\n",
      "Loss: 0.237753  [25600/28000]\n",
      "------------ Test -----------\n",
      "Accuracy: 91.471429%, Avg loss: 0.273799 \n",
      "\n",
      "Loss: 0.190589  [    0/28000]\n",
      "Loss: 0.210494  [12800/28000]\n",
      "Loss: 0.176343  [25600/28000]\n",
      "------------ Test -----------\n",
      "Accuracy: 91.871429%, Avg loss: 0.265966 \n",
      "\n",
      "Loss: 0.231412  [    0/28000]\n",
      "Loss: 0.259973  [12800/28000]\n",
      "Loss: 0.266329  [25600/28000]\n",
      "------------ Test -----------\n",
      "Accuracy: 91.557143%, Avg loss: 0.268292 \n",
      "\n",
      "Loss: 0.181871  [    0/28000]\n",
      "Loss: 0.162188  [12800/28000]\n",
      "Loss: 0.184454  [25600/28000]\n",
      "------------ Test -----------\n",
      "Accuracy: 91.728571%, Avg loss: 0.261016 \n",
      "\n",
      "Loss: 0.153277  [    0/28000]\n",
      "Loss: 0.203465  [12800/28000]\n",
      "Loss: 0.129648  [25600/28000]\n",
      "------------ Test -----------\n",
      "Accuracy: 91.314286%, Avg loss: 0.275557 \n",
      "\n",
      "Loss: 0.231321  [    0/28000]\n",
      "Loss: 0.091539  [12800/28000]\n",
      "Loss: 0.188322  [25600/28000]\n",
      "------------ Test -----------\n",
      "Accuracy: 91.357143%, Avg loss: 0.266070 \n",
      "\n",
      "Loss: 0.125808  [    0/28000]\n",
      "Loss: 0.094866  [12800/28000]\n",
      "Loss: 0.111264  [25600/28000]\n",
      "------------ Test -----------\n",
      "Accuracy: 91.428571%, Avg loss: 0.266214 \n",
      "\n",
      "Loss: 0.108296  [    0/28000]\n",
      "Loss: 0.215619  [12800/28000]\n",
      "Loss: 0.144310  [25600/28000]\n",
      "------------ Test -----------\n",
      "Accuracy: 90.600000%, Avg loss: 0.291187 \n",
      "\n",
      "Loss: 0.128519  [    0/28000]\n",
      "Loss: 0.065435  [12800/28000]\n",
      "Loss: 0.175655  [25600/28000]\n",
      "------------ Test -----------\n",
      "Accuracy: 91.528571%, Avg loss: 0.265030 \n",
      "\n",
      "Loss: 0.084465  [    0/28000]\n",
      "Loss: 0.108395  [12800/28000]\n",
      "Loss: 0.185209  [25600/28000]\n",
      "------------ Test -----------\n",
      "Accuracy: 91.771429%, Avg loss: 0.260655 \n",
      "\n",
      "Loss: 0.059528  [    0/28000]\n",
      "Loss: 0.160928  [12800/28000]\n",
      "Loss: 0.084115  [25600/28000]\n",
      "------------ Test -----------\n",
      "Accuracy: 91.628571%, Avg loss: 0.260045 \n",
      "\n"
     ]
    }
   ],
   "source": [
    "# Quickdraw\n",
    "train_quickdraw_acc = []\n",
    "train_quickdraw_loss = []\n",
    "val_quickdraw_acc = []\n",
    "val_quickdraw_loss = []\n",
    "\n",
    "for epoch in range(num_epoch):\n",
    "  train_acc, train_loss = train(trainloader, model, criterion, optimizer)\n",
    "  val_acc, val_loss = test(testloader, model, criterion)\n",
    "  train_quickdraw_acc.append(train_acc)\n",
    "  train_quickdraw_loss.append(train_loss)\n",
    "  val_quickdraw_acc.append(val_acc)\n",
    "  val_quickdraw_loss.append(val_loss)"
   ]
  },
  {
   "cell_type": "code",
   "execution_count": null,
   "id": "xSkoCxsYXjWG",
   "metadata": {
    "colab": {
     "base_uri": "https://localhost:8080/",
     "height": 545
    },
    "executionInfo": {
     "elapsed": 1307,
     "status": "ok",
     "timestamp": 1668519822767,
     "user": {
      "displayName": "S Fan",
      "userId": "12533267099099146412"
     },
     "user_tz": -480
    },
    "id": "xSkoCxsYXjWG",
    "outputId": "c9213fa9-300e-43e3-8500-dc7d819ddaa4"
   },
   "outputs": [
    {
     "data": {
      "image/png": "[encoded data removed]",
      "text/plain": [
       "<Figure size 432x288 with 1 Axes>"
      ]
     },
     "metadata": {
      "needs_background": "light"
     },
     "output_type": "display_data"
    },
    {
     "data": {
      "image/png": "[encoded data removed]",
      "text/plain": [
       "<Figure size 432x288 with 1 Axes>"
      ]
     },
     "metadata": {
      "needs_background": "light"
     },
     "output_type": "display_data"
    }
   ],
   "source": [
    "epoches = [i for i in range(num_epoch)]\n",
    "plt.plot(epoches, train_quickdraw_loss, label=\"train loss\")\n",
    "plt.plot(epoches, val_quickdraw_loss, label=\"validation loss\")\n",
    "plt.legend()\n",
    "plt.title('Loss curve')\n",
    "plt.show()\n",
    "\n",
    "plt.plot(epoches, train_quickdraw_acc, label=\"train accuracy\")\n",
    "plt.plot(epoches, val_quickdraw_acc, label=\"validation accuracy\")\n",
    "plt.legend()\n",
    "plt.title('Accuracy curve')\n",
    "plt.show()"
   ]
  },
  {
   "cell_type": "code",
   "execution_count": null,
   "id": "B3WQMVv19rK7",
   "metadata": {
    "id": "B3WQMVv19rK7"
   },
   "outputs": [],
   "source": [
    "torch.save(model, sys.path[0]+'/Inception_quickdraw_model.pth')"
   ]
  },
  {
   "cell_type": "code",
   "execution_count": null,
   "id": "paFXAxbqYkeA",
   "metadata": {
    "colab": {
     "base_uri": "https://localhost:8080/"
    },
    "executionInfo": {
     "elapsed": 8,
     "status": "ok",
     "timestamp": 1668519878179,
     "user": {
      "displayName": "S Fan",
      "userId": "12533267099099146412"
     },
     "user_tz": -480
    },
    "id": "paFXAxbqYkeA",
    "outputId": "f8b36b53-e3be-46ae-8853-e119be275201"
   },
   "outputs": [
    {
     "name": "stdout",
     "output_type": "stream",
     "text": [
      "[1.5341553701034853, 0.8991504127140755, 0.6161282341109714, 0.47699825083556424, 0.39429769081016514, 0.342790764695937, 0.3046886844355474, 0.275614949978163, 0.2548685404854201, 0.23515681957760742, 0.21777627853050097, 0.2005769810487475, 0.1864624847302885, 0.17391851614305923, 0.16021759980805467, 0.14871927477718455, 0.13485123915048294, 0.1253989653228334, 0.11535915978586307, 0.10402632573151284]\n"
     ]
    }
   ],
   "source": [
    "print(train_quickdraw_loss)"
   ]
  },
  {
   "cell_type": "code",
   "execution_count": null,
   "id": "w1I_GGiyYy8w",
   "metadata": {
    "colab": {
     "base_uri": "https://localhost:8080/"
    },
    "executionInfo": {
     "elapsed": 6,
     "status": "ok",
     "timestamp": 1668519880865,
     "user": {
      "displayName": "S Fan",
      "userId": "12533267099099146412"
     },
     "user_tz": -480
    },
    "id": "w1I_GGiyYy8w",
    "outputId": "2a3f52ce-77c7-426c-e01f-d5a80b2223f9"
   },
   "outputs": [
    {
     "name": "stdout",
     "output_type": "stream",
     "text": [
      "[0.5774642857142858, 0.7978214285714286, 0.8535714285714285, 0.8792857142857143, 0.8961785714285714, 0.9091428571428571, 0.9161785714285714, 0.9227857142857143, 0.9288571428571428, 0.9328928571428572, 0.9378928571428572, 0.9430714285714286, 0.9474285714285714, 0.9516071428571429, 0.9558571428571428, 0.9596428571428571, 0.9634642857142857, 0.9674285714285714, 0.9708928571428571, 0.9743571428571428]\n"
     ]
    }
   ],
   "source": [
    "print(train_quickdraw_acc)"
   ]
  },
  {
   "cell_type": "code",
   "execution_count": null,
   "id": "q7enj0ZPY3Wu",
   "metadata": {
    "colab": {
     "base_uri": "https://localhost:8080/"
    },
    "executionInfo": {
     "elapsed": 6,
     "status": "ok",
     "timestamp": 1668519883955,
     "user": {
      "displayName": "S Fan",
      "userId": "12533267099099146412"
     },
     "user_tz": -480
    },
    "id": "q7enj0ZPY3Wu",
    "outputId": "bb30a8c8-1132-4c6b-a8ce-1fc3562b1d2c"
   },
   "outputs": [
    {
     "name": "stdout",
     "output_type": "stream",
     "text": [
      "[1.1169138015656779, 0.7088665072475935, 0.5198165999960336, 0.42097089594759635, 0.37561413838630414, 0.33542910780692753, 0.304507122941696, 0.2906581053260156, 0.28137361281785145, 0.27379942739634805, 0.26596620480168287, 0.26829153565245706, 0.261016144863044, 0.275557360940116, 0.2660701189871456, 0.2662144422216034, 0.2911865461549321, 0.26502964076999286, 0.26065498565154915, 0.26004530126695213]\n"
     ]
    }
   ],
   "source": [
    "print(val_quickdraw_loss)"
   ]
  },
  {
   "cell_type": "code",
   "execution_count": null,
   "id": "5a4GnXBiY6om",
   "metadata": {
    "colab": {
     "base_uri": "https://localhost:8080/"
    },
    "executionInfo": {
     "elapsed": 7,
     "status": "ok",
     "timestamp": 1668519887470,
     "user": {
      "displayName": "S Fan",
      "userId": "12533267099099146412"
     },
     "user_tz": -480
    },
    "id": "5a4GnXBiY6om",
    "outputId": "e41c7605-eccb-43e2-bb36-6b355fc45eba"
   },
   "outputs": [
    {
     "name": "stdout",
     "output_type": "stream",
     "text": [
      "[0.7504285714285714, 0.8392857142857143, 0.8712857142857143, 0.8902857142857142, 0.8967142857142857, 0.9055714285714286, 0.912, 0.9121428571428571, 0.9128571428571428, 0.9147142857142857, 0.9187142857142857, 0.9155714285714286, 0.9172857142857143, 0.9131428571428571, 0.9135714285714286, 0.9142857142857143, 0.906, 0.9152857142857143, 0.9177142857142857, 0.9162857142857143]\n"
     ]
    }
   ],
   "source": [
    "print(val_quickdraw_acc)"
   ]
  },
  {
   "cell_type": "code",
   "execution_count": null,
   "id": "rb8rgjw2c_8N",
   "metadata": {
    "colab": {
     "base_uri": "https://localhost:8080/"
    },
    "executionInfo": {
     "elapsed": 677485,
     "status": "ok",
     "timestamp": 1668521119721,
     "user": {
      "displayName": "S Fan",
      "userId": "12533267099099146412"
     },
     "user_tz": -480
    },
    "id": "rb8rgjw2c_8N",
    "outputId": "1e3177e5-2335-4d5e-a96b-71ed3033d2ea"
   },
   "outputs": [
    {
     "name": "stdout",
     "output_type": "stream",
     "text": [
      "Loss: 1.970704  [    0/28000]\n",
      "Loss: 1.647705  [12800/28000]\n",
      "Loss: 1.400706  [25600/28000]\n",
      "------------ Test -----------\n",
      "Accuracy: 59.328571%, Avg loss: 1.303658 \n",
      "\n",
      "Loss: 1.334938  [    0/28000]\n",
      "Loss: 1.237809  [12800/28000]\n",
      "Loss: 1.121643  [25600/28000]\n",
      "------------ Test -----------\n",
      "Accuracy: 72.057143%, Avg loss: 0.969772 \n",
      "\n",
      "Loss: 1.013706  [    0/28000]\n",
      "Loss: 1.097416  [12800/28000]\n",
      "Loss: 0.930965  [25600/28000]\n",
      "------------ Test -----------\n",
      "Accuracy: 78.171429%, Avg loss: 0.729772 \n",
      "\n",
      "Loss: 0.944873  [    0/28000]\n",
      "Loss: 0.714589  [12800/28000]\n",
      "Loss: 0.737952  [25600/28000]\n",
      "------------ Test -----------\n",
      "Accuracy: 82.242857%, Avg loss: 0.595010 \n",
      "\n",
      "Loss: 0.734391  [    0/28000]\n",
      "Loss: 0.737961  [12800/28000]\n",
      "Loss: 0.770071  [25600/28000]\n",
      "------------ Test -----------\n",
      "Accuracy: 84.828571%, Avg loss: 0.504776 \n",
      "\n",
      "Loss: 0.617632  [    0/28000]\n",
      "Loss: 0.480892  [12800/28000]\n",
      "Loss: 0.584650  [25600/28000]\n",
      "------------ Test -----------\n",
      "Accuracy: 86.414286%, Avg loss: 0.447319 \n",
      "\n",
      "Loss: 0.500188  [    0/28000]\n",
      "Loss: 0.621199  [12800/28000]\n",
      "Loss: 0.538245  [25600/28000]\n",
      "------------ Test -----------\n",
      "Accuracy: 86.171429%, Avg loss: 0.428246 \n",
      "\n",
      "Loss: 0.574560  [    0/28000]\n",
      "Loss: 0.581393  [12800/28000]\n",
      "Loss: 0.543224  [25600/28000]\n",
      "------------ Test -----------\n",
      "Accuracy: 87.200000%, Avg loss: 0.392484 \n",
      "\n",
      "Loss: 0.598311  [    0/28000]\n",
      "Loss: 0.466855  [12800/28000]\n",
      "Loss: 0.499586  [25600/28000]\n",
      "------------ Test -----------\n",
      "Accuracy: 87.857143%, Avg loss: 0.362925 \n",
      "\n",
      "Loss: 0.541654  [    0/28000]\n",
      "Loss: 0.446149  [12800/28000]\n",
      "Loss: 0.359470  [25600/28000]\n",
      "------------ Test -----------\n",
      "Accuracy: 88.228571%, Avg loss: 0.352592 \n",
      "\n",
      "Loss: 0.319121  [    0/28000]\n",
      "Loss: 0.516973  [12800/28000]\n",
      "Loss: 0.558699  [25600/28000]\n",
      "------------ Test -----------\n",
      "Accuracy: 87.185714%, Avg loss: 0.363680 \n",
      "\n",
      "Loss: 0.516375  [    0/28000]\n",
      "Loss: 0.323786  [12800/28000]\n",
      "Loss: 0.445990  [25600/28000]\n",
      "------------ Test -----------\n",
      "Accuracy: 89.557143%, Avg loss: 0.323166 \n",
      "\n",
      "Loss: 0.361631  [    0/28000]\n",
      "Loss: 0.391436  [12800/28000]\n",
      "Loss: 0.512055  [25600/28000]\n",
      "------------ Test -----------\n",
      "Accuracy: 89.014286%, Avg loss: 0.325045 \n",
      "\n",
      "Loss: 0.393855  [    0/28000]\n",
      "Loss: 0.356935  [12800/28000]\n",
      "Loss: 0.510885  [25600/28000]\n",
      "------------ Test -----------\n",
      "Accuracy: 89.642857%, Avg loss: 0.310060 \n",
      "\n",
      "Loss: 0.298375  [    0/28000]\n",
      "Loss: 0.326454  [12800/28000]\n",
      "Loss: 0.450421  [25600/28000]\n",
      "------------ Test -----------\n",
      "Accuracy: 89.371429%, Avg loss: 0.312984 \n",
      "\n",
      "Loss: 0.351272  [    0/28000]\n",
      "Loss: 0.329774  [12800/28000]\n",
      "Loss: 0.303387  [25600/28000]\n",
      "------------ Test -----------\n",
      "Accuracy: 89.900000%, Avg loss: 0.299985 \n",
      "\n",
      "Loss: 0.298839  [    0/28000]\n",
      "Loss: 0.210305  [12800/28000]\n",
      "Loss: 0.327093  [25600/28000]\n",
      "------------ Test -----------\n",
      "Accuracy: 89.114286%, Avg loss: 0.322881 \n",
      "\n",
      "Loss: 0.256730  [    0/28000]\n",
      "Loss: 0.380239  [12800/28000]\n",
      "Loss: 0.291878  [25600/28000]\n",
      "------------ Test -----------\n",
      "Accuracy: 89.700000%, Avg loss: 0.324827 \n",
      "\n",
      "Loss: 0.252715  [    0/28000]\n",
      "Loss: 0.200126  [12800/28000]\n",
      "Loss: 0.183680  [25600/28000]\n",
      "------------ Test -----------\n",
      "Accuracy: 89.785714%, Avg loss: 0.314720 \n",
      "\n",
      "Loss: 0.236403  [    0/28000]\n",
      "Loss: 0.230964  [12800/28000]\n",
      "Loss: 0.211468  [25600/28000]\n",
      "------------ Test -----------\n",
      "Accuracy: 89.828571%, Avg loss: 0.312276 \n",
      "\n"
     ]
    }
   ],
   "source": [
    "# Realworld\n",
    "train_realworld_acc = []\n",
    "train_realworld_loss = []\n",
    "val_realworld_acc = []\n",
    "val_realworld_loss = []\n",
    "\n",
    "for epoch in range(num_epoch):\n",
    "  train_acc, train_loss = train(trainloader, model, criterion, optimizer)\n",
    "  val_acc, val_loss = test(testloader, model, criterion)\n",
    "  train_realworld_acc.append(train_acc)\n",
    "  train_realworld_loss.append(train_loss)\n",
    "  val_realworld_acc.append(val_acc)\n",
    "  val_realworld_loss.append(val_loss)"
   ]
  },
  {
   "cell_type": "code",
   "execution_count": null,
   "id": "9nm1i3Y4ex6l",
   "metadata": {
    "colab": {
     "base_uri": "https://localhost:8080/",
     "height": 545
    },
    "executionInfo": {
     "elapsed": 926,
     "status": "ok",
     "timestamp": 1668521198972,
     "user": {
      "displayName": "S Fan",
      "userId": "12533267099099146412"
     },
     "user_tz": -480
    },
    "id": "9nm1i3Y4ex6l",
    "outputId": "20968f43-6fde-45bd-ddce-0ae21593e79e"
   },
   "outputs": [
    {
     "data": {
      "image/png": "[encoded data removed]",
      "text/plain": [
       "<Figure size 432x288 with 1 Axes>"
      ]
     },
     "metadata": {
      "needs_background": "light"
     },
     "output_type": "display_data"
    },
    {
     "data": {
      "image/png": "[encoded data removed]",
      "text/plain": [
       "<Figure size 432x288 with 1 Axes>"
      ]
     },
     "metadata": {
      "needs_background": "light"
     },
     "output_type": "display_data"
    }
   ],
   "source": [
    "epoches = [i for i in range(num_epoch)]\n",
    "plt.plot(epoches, train_realworld_loss, label=\"train loss\")\n",
    "plt.plot(epoches, val_realworld_loss, label=\"validation loss\")\n",
    "plt.legend()\n",
    "plt.title('Loss curve')\n",
    "plt.show()\n",
    "\n",
    "plt.plot(epoches, train_realworld_acc, label=\"train accuracy\")\n",
    "plt.plot(epoches, val_realworld_acc, label=\"validation accuracy\")\n",
    "plt.legend()\n",
    "plt.title('Accuracy curve')\n",
    "plt.show()"
   ]
  },
  {
   "cell_type": "code",
   "execution_count": null,
   "id": "Asdm8fiPf2DE",
   "metadata": {
    "id": "Asdm8fiPf2DE"
   },
   "outputs": [],
   "source": [
    "torch.save(model, sys.path[0]+'/Inception_realworld_model.pth')"
   ]
  },
  {
   "cell_type": "code",
   "execution_count": null,
   "id": "msiX8uyJfGBP",
   "metadata": {
    "colab": {
     "base_uri": "https://localhost:8080/"
    },
    "executionInfo": {
     "elapsed": 4,
     "status": "ok",
     "timestamp": 1668521270127,
     "user": {
      "displayName": "S Fan",
      "userId": "12533267099099146412"
     },
     "user_tz": -480
    },
    "id": "msiX8uyJfGBP",
    "outputId": "7af2914d-bfb2-4f53-bf65-80270c4d9b2c"
   },
   "outputs": [
    {
     "name": "stdout",
     "output_type": "stream",
     "text": [
      "[0.4095714285714286, 0.5905714285714285, 0.6868928571428572, 0.7378571428571429, 0.7670714285714286, 0.7916428571428571, 0.8060714285714285, 0.8163928571428571, 0.83175, 0.8433928571428572, 0.8522857142857143, 0.8603928571428572, 0.8706428571428572, 0.8779285714285714, 0.8852857142857142, 0.8884642857142857, 0.8968571428571429, 0.90375, 0.9081071428571429, 0.9148214285714286]\n"
     ]
    }
   ],
   "source": [
    "print(train_realworld_acc)"
   ]
  },
  {
   "cell_type": "code",
   "execution_count": null,
   "id": "BskjWpqaz0lS",
   "metadata": {
    "colab": {
     "base_uri": "https://localhost:8080/"
    },
    "executionInfo": {
     "elapsed": 537,
     "status": "ok",
     "timestamp": 1668521273050,
     "user": {
      "displayName": "S Fan",
      "userId": "12533267099099146412"
     },
     "user_tz": -480
    },
    "id": "BskjWpqaz0lS",
    "outputId": "1ec468b0-04ce-4140-e02b-7cd4b04dcf8f"
   },
   "outputs": [
    {
     "name": "stdout",
     "output_type": "stream",
     "text": [
      "[1.6454635966189817, 1.2163931017951446, 0.967913655210779, 0.8089210012738869, 0.7111143976549011, 0.6409570967089142, 0.5931795318554202, 0.5529410019621149, 0.5143736986473927, 0.4809634260624383, 0.45585057986638916, 0.42951189705834625, 0.40456406201296524, 0.3795610558917946, 0.36244394095912114, 0.34327948681952797, 0.3264049841858711, 0.30315306713385415, 0.28889049638441633, 0.27277808645452173]\n"
     ]
    }
   ],
   "source": [
    "print(train_realworld_loss)"
   ]
  },
  {
   "cell_type": "code",
   "execution_count": null,
   "id": "EXLT5VL8z1Ev",
   "metadata": {
    "colab": {
     "base_uri": "https://localhost:8080/"
    },
    "executionInfo": {
     "elapsed": 7,
     "status": "ok",
     "timestamp": 1668521275813,
     "user": {
      "displayName": "S Fan",
      "userId": "12533267099099146412"
     },
     "user_tz": -480
    },
    "id": "EXLT5VL8z1Ev",
    "outputId": "45cd03e4-d7d2-4fc0-f813-c46b30668e9a"
   },
   "outputs": [
    {
     "name": "stdout",
     "output_type": "stream",
     "text": [
      "[0.5932857142857143, 0.7205714285714285, 0.7817142857142857, 0.8224285714285714, 0.8482857142857143, 0.8641428571428571, 0.8617142857142858, 0.872, 0.8785714285714286, 0.8822857142857143, 0.8718571428571429, 0.8955714285714286, 0.8901428571428571, 0.8964285714285715, 0.8937142857142857, 0.899, 0.8911428571428571, 0.897, 0.8978571428571429, 0.8982857142857142]\n"
     ]
    }
   ],
   "source": [
    "print(val_realworld_acc)"
   ]
  },
  {
   "cell_type": "code",
   "execution_count": null,
   "id": "b_j-q06wz2ni",
   "metadata": {
    "colab": {
     "base_uri": "https://localhost:8080/"
    },
    "executionInfo": {
     "elapsed": 8,
     "status": "ok",
     "timestamp": 1668521279023,
     "user": {
      "displayName": "S Fan",
      "userId": "12533267099099146412"
     },
     "user_tz": -480
    },
    "id": "b_j-q06wz2ni",
    "outputId": "b82d8346-8a45-45b3-c6a1-6821d76e12b2"
   },
   "outputs": [
    {
     "name": "stdout",
     "output_type": "stream",
     "text": [
      "[1.30365810985523, 0.9697722407937731, 0.7297720592458034, 0.5950095413817651, 0.5047763118452264, 0.44731906879571537, 0.428245714193936, 0.39248430619333685, 0.3629245297795181, 0.35259217578444585, 0.36368036080690097, 0.3231659903375216, 0.3250449756713432, 0.31006041729993394, 0.31298390893431977, 0.29998508612996755, 0.32288051655868427, 0.32482717642685255, 0.31472025947657395, 0.3122758886785645]\n"
     ]
    }
   ],
   "source": [
    "print(val_realworld_loss)"
   ]
  },
  {
   "cell_type": "markdown",
   "id": "uBzAccd3NvHQ",
   "metadata": {
    "id": "uBzAccd3NvHQ"
   },
   "source": [
    "## 7. Search Engine Accuracy"
   ]
  },
  {
   "cell_type": "code",
   "execution_count": null,
   "id": "Q3BhyJf-1KZH",
   "metadata": {
    "id": "Q3BhyJf-1KZH"
   },
   "outputs": [],
   "source": [
    "QURIES = ['pineapple', 'apple', 'banana', 'strawberry', 'pear', 'watermelon', 'grapes']  \n",
    "test_quickdraw_dir = sys.path[0]+'/compressed_quickdraw_test.npz'\n",
    "test_quickdraw = ImageDataset(test_quickdraw_dir, QURIES, image_size = 32, class_size = 1000)\n",
    "quickdraw_testloader = DataLoader(test_quickdraw, batch_size=128, shuffle=True, pin_memory=True, num_workers=32)\n",
    " \n",
    "test_realworld_dir = sys.path[0]+'/compressed_realworld_test.npz'\n",
    "test_realworld = ImageDataset(test_realworld_dir, QURIES, image_size = 32, class_size = 1000)\n",
    "realworld_testloader = DataLoader(test_realworld, batch_size=128, shuffle=True, pin_memory=True, num_workers=32)"
   ]
  },
  {
   "cell_type": "code",
   "execution_count": null,
   "id": "iLCL3JKE2PPH",
   "metadata": {
    "colab": {
     "base_uri": "https://localhost:8080/"
    },
    "executionInfo": {
     "elapsed": 6073,
     "status": "ok",
     "timestamp": 1668523565565,
     "user": {
      "displayName": "S Fan",
      "userId": "12533267099099146412"
     },
     "user_tz": -480
    },
    "id": "iLCL3JKE2PPH",
    "outputId": "8ec270f8-838f-4c11-843c-279581968913"
   },
   "outputs": [
    {
     "data": {
      "text/plain": [
       "Inception(\n",
       "  (input_net): Sequential(\n",
       "    (0): Conv2d(3, 64, kernel_size=(3, 3), stride=(1, 1), padding=(1, 1))\n",
       "    (1): BatchNorm2d(64, eps=1e-05, momentum=0.1, affine=True, track_running_stats=True)\n",
       "    (2): ReLU()\n",
       "  )\n",
       "  (inception_blocks): Sequential(\n",
       "    (0): InceptionBlock(\n",
       "      (conv_1x1): Sequential(\n",
       "        (0): Conv2d(64, 16, kernel_size=(1, 1), stride=(1, 1))\n",
       "        (1): BatchNorm2d(16, eps=1e-05, momentum=0.1, affine=True, track_running_stats=True)\n",
       "        (2): ReLU()\n",
       "      )\n",
       "      (conv_3x3): Sequential(\n",
       "        (0): Conv2d(64, 32, kernel_size=(1, 1), stride=(1, 1))\n",
       "        (1): BatchNorm2d(32, eps=1e-05, momentum=0.1, affine=True, track_running_stats=True)\n",
       "        (2): ReLU()\n",
       "        (3): Conv2d(32, 32, kernel_size=(3, 3), stride=(1, 1), padding=(1, 1))\n",
       "        (4): BatchNorm2d(32, eps=1e-05, momentum=0.1, affine=True, track_running_stats=True)\n",
       "        (5): ReLU()\n",
       "      )\n",
       "      (conv_5x5): Sequential(\n",
       "        (0): Conv2d(64, 16, kernel_size=(1, 1), stride=(1, 1))\n",
       "        (1): BatchNorm2d(16, eps=1e-05, momentum=0.1, affine=True, track_running_stats=True)\n",
       "        (2): ReLU()\n",
       "        (3): Conv2d(16, 8, kernel_size=(5, 5), stride=(1, 1), padding=(2, 2))\n",
       "        (4): BatchNorm2d(8, eps=1e-05, momentum=0.1, affine=True, track_running_stats=True)\n",
       "        (5): ReLU()\n",
       "      )\n",
       "      (max_pool): Sequential(\n",
       "        (0): MaxPool2d(kernel_size=3, stride=1, padding=1, dilation=1, ceil_mode=False)\n",
       "        (1): Conv2d(64, 8, kernel_size=(1, 1), stride=(1, 1))\n",
       "        (2): BatchNorm2d(8, eps=1e-05, momentum=0.1, affine=True, track_running_stats=True)\n",
       "        (3): ReLU()\n",
       "      )\n",
       "    )\n",
       "    (1): InceptionBlock(\n",
       "      (conv_1x1): Sequential(\n",
       "        (0): Conv2d(64, 24, kernel_size=(1, 1), stride=(1, 1))\n",
       "        (1): BatchNorm2d(24, eps=1e-05, momentum=0.1, affine=True, track_running_stats=True)\n",
       "        (2): ReLU()\n",
       "      )\n",
       "      (conv_3x3): Sequential(\n",
       "        (0): Conv2d(64, 32, kernel_size=(1, 1), stride=(1, 1))\n",
       "        (1): BatchNorm2d(32, eps=1e-05, momentum=0.1, affine=True, track_running_stats=True)\n",
       "        (2): ReLU()\n",
       "        (3): Conv2d(32, 48, kernel_size=(3, 3), stride=(1, 1), padding=(1, 1))\n",
       "        (4): BatchNorm2d(48, eps=1e-05, momentum=0.1, affine=True, track_running_stats=True)\n",
       "        (5): ReLU()\n",
       "      )\n",
       "      (conv_5x5): Sequential(\n",
       "        (0): Conv2d(64, 16, kernel_size=(1, 1), stride=(1, 1))\n",
       "        (1): BatchNorm2d(16, eps=1e-05, momentum=0.1, affine=True, track_running_stats=True)\n",
       "        (2): ReLU()\n",
       "        (3): Conv2d(16, 12, kernel_size=(5, 5), stride=(1, 1), padding=(2, 2))\n",
       "        (4): BatchNorm2d(12, eps=1e-05, momentum=0.1, affine=True, track_running_stats=True)\n",
       "        (5): ReLU()\n",
       "      )\n",
       "      (max_pool): Sequential(\n",
       "        (0): MaxPool2d(kernel_size=3, stride=1, padding=1, dilation=1, ceil_mode=False)\n",
       "        (1): Conv2d(64, 12, kernel_size=(1, 1), stride=(1, 1))\n",
       "        (2): BatchNorm2d(12, eps=1e-05, momentum=0.1, affine=True, track_running_stats=True)\n",
       "        (3): ReLU()\n",
       "      )\n",
       "    )\n",
       "    (2): MaxPool2d(kernel_size=3, stride=2, padding=1, dilation=1, ceil_mode=False)\n",
       "    (3): InceptionBlock(\n",
       "      (conv_1x1): Sequential(\n",
       "        (0): Conv2d(96, 24, kernel_size=(1, 1), stride=(1, 1))\n",
       "        (1): BatchNorm2d(24, eps=1e-05, momentum=0.1, affine=True, track_running_stats=True)\n",
       "        (2): ReLU()\n",
       "      )\n",
       "      (conv_3x3): Sequential(\n",
       "        (0): Conv2d(96, 32, kernel_size=(1, 1), stride=(1, 1))\n",
       "        (1): BatchNorm2d(32, eps=1e-05, momentum=0.1, affine=True, track_running_stats=True)\n",
       "        (2): ReLU()\n",
       "        (3): Conv2d(32, 48, kernel_size=(3, 3), stride=(1, 1), padding=(1, 1))\n",
       "        (4): BatchNorm2d(48, eps=1e-05, momentum=0.1, affine=True, track_running_stats=True)\n",
       "        (5): ReLU()\n",
       "      )\n",
       "      (conv_5x5): Sequential(\n",
       "        (0): Conv2d(96, 16, kernel_size=(1, 1), stride=(1, 1))\n",
       "        (1): BatchNorm2d(16, eps=1e-05, momentum=0.1, affine=True, track_running_stats=True)\n",
       "        (2): ReLU()\n",
       "        (3): Conv2d(16, 12, kernel_size=(5, 5), stride=(1, 1), padding=(2, 2))\n",
       "        (4): BatchNorm2d(12, eps=1e-05, momentum=0.1, affine=True, track_running_stats=True)\n",
       "        (5): ReLU()\n",
       "      )\n",
       "      (max_pool): Sequential(\n",
       "        (0): MaxPool2d(kernel_size=3, stride=1, padding=1, dilation=1, ceil_mode=False)\n",
       "        (1): Conv2d(96, 12, kernel_size=(1, 1), stride=(1, 1))\n",
       "        (2): BatchNorm2d(12, eps=1e-05, momentum=0.1, affine=True, track_running_stats=True)\n",
       "        (3): ReLU()\n",
       "      )\n",
       "    )\n",
       "    (4): InceptionBlock(\n",
       "      (conv_1x1): Sequential(\n",
       "        (0): Conv2d(96, 16, kernel_size=(1, 1), stride=(1, 1))\n",
       "        (1): BatchNorm2d(16, eps=1e-05, momentum=0.1, affine=True, track_running_stats=True)\n",
       "        (2): ReLU()\n",
       "      )\n",
       "      (conv_3x3): Sequential(\n",
       "        (0): Conv2d(96, 32, kernel_size=(1, 1), stride=(1, 1))\n",
       "        (1): BatchNorm2d(32, eps=1e-05, momentum=0.1, affine=True, track_running_stats=True)\n",
       "        (2): ReLU()\n",
       "        (3): Conv2d(32, 48, kernel_size=(3, 3), stride=(1, 1), padding=(1, 1))\n",
       "        (4): BatchNorm2d(48, eps=1e-05, momentum=0.1, affine=True, track_running_stats=True)\n",
       "        (5): ReLU()\n",
       "      )\n",
       "      (conv_5x5): Sequential(\n",
       "        (0): Conv2d(96, 16, kernel_size=(1, 1), stride=(1, 1))\n",
       "        (1): BatchNorm2d(16, eps=1e-05, momentum=0.1, affine=True, track_running_stats=True)\n",
       "        (2): ReLU()\n",
       "        (3): Conv2d(16, 16, kernel_size=(5, 5), stride=(1, 1), padding=(2, 2))\n",
       "        (4): BatchNorm2d(16, eps=1e-05, momentum=0.1, affine=True, track_running_stats=True)\n",
       "        (5): ReLU()\n",
       "      )\n",
       "      (max_pool): Sequential(\n",
       "        (0): MaxPool2d(kernel_size=3, stride=1, padding=1, dilation=1, ceil_mode=False)\n",
       "        (1): Conv2d(96, 16, kernel_size=(1, 1), stride=(1, 1))\n",
       "        (2): BatchNorm2d(16, eps=1e-05, momentum=0.1, affine=True, track_running_stats=True)\n",
       "        (3): ReLU()\n",
       "      )\n",
       "    )\n",
       "    (5): InceptionBlock(\n",
       "      (conv_1x1): Sequential(\n",
       "        (0): Conv2d(96, 16, kernel_size=(1, 1), stride=(1, 1))\n",
       "        (1): BatchNorm2d(16, eps=1e-05, momentum=0.1, affine=True, track_running_stats=True)\n",
       "        (2): ReLU()\n",
       "      )\n",
       "      (conv_3x3): Sequential(\n",
       "        (0): Conv2d(96, 32, kernel_size=(1, 1), stride=(1, 1))\n",
       "        (1): BatchNorm2d(32, eps=1e-05, momentum=0.1, affine=True, track_running_stats=True)\n",
       "        (2): ReLU()\n",
       "        (3): Conv2d(32, 48, kernel_size=(3, 3), stride=(1, 1), padding=(1, 1))\n",
       "        (4): BatchNorm2d(48, eps=1e-05, momentum=0.1, affine=True, track_running_stats=True)\n",
       "        (5): ReLU()\n",
       "      )\n",
       "      (conv_5x5): Sequential(\n",
       "        (0): Conv2d(96, 16, kernel_size=(1, 1), stride=(1, 1))\n",
       "        (1): BatchNorm2d(16, eps=1e-05, momentum=0.1, affine=True, track_running_stats=True)\n",
       "        (2): ReLU()\n",
       "        (3): Conv2d(16, 16, kernel_size=(5, 5), stride=(1, 1), padding=(2, 2))\n",
       "        (4): BatchNorm2d(16, eps=1e-05, momentum=0.1, affine=True, track_running_stats=True)\n",
       "        (5): ReLU()\n",
       "      )\n",
       "      (max_pool): Sequential(\n",
       "        (0): MaxPool2d(kernel_size=3, stride=1, padding=1, dilation=1, ceil_mode=False)\n",
       "        (1): Conv2d(96, 16, kernel_size=(1, 1), stride=(1, 1))\n",
       "        (2): BatchNorm2d(16, eps=1e-05, momentum=0.1, affine=True, track_running_stats=True)\n",
       "        (3): ReLU()\n",
       "      )\n",
       "    )\n",
       "    (6): InceptionBlock(\n",
       "      (conv_1x1): Sequential(\n",
       "        (0): Conv2d(96, 32, kernel_size=(1, 1), stride=(1, 1))\n",
       "        (1): BatchNorm2d(32, eps=1e-05, momentum=0.1, affine=True, track_running_stats=True)\n",
       "        (2): ReLU()\n",
       "      )\n",
       "      (conv_3x3): Sequential(\n",
       "        (0): Conv2d(96, 32, kernel_size=(1, 1), stride=(1, 1))\n",
       "        (1): BatchNorm2d(32, eps=1e-05, momentum=0.1, affine=True, track_running_stats=True)\n",
       "        (2): ReLU()\n",
       "        (3): Conv2d(32, 48, kernel_size=(3, 3), stride=(1, 1), padding=(1, 1))\n",
       "        (4): BatchNorm2d(48, eps=1e-05, momentum=0.1, affine=True, track_running_stats=True)\n",
       "        (5): ReLU()\n",
       "      )\n",
       "      (conv_5x5): Sequential(\n",
       "        (0): Conv2d(96, 16, kernel_size=(1, 1), stride=(1, 1))\n",
       "        (1): BatchNorm2d(16, eps=1e-05, momentum=0.1, affine=True, track_running_stats=True)\n",
       "        (2): ReLU()\n",
       "        (3): Conv2d(16, 24, kernel_size=(5, 5), stride=(1, 1), padding=(2, 2))\n",
       "        (4): BatchNorm2d(24, eps=1e-05, momentum=0.1, affine=True, track_running_stats=True)\n",
       "        (5): ReLU()\n",
       "      )\n",
       "      (max_pool): Sequential(\n",
       "        (0): MaxPool2d(kernel_size=3, stride=1, padding=1, dilation=1, ceil_mode=False)\n",
       "        (1): Conv2d(96, 24, kernel_size=(1, 1), stride=(1, 1))\n",
       "        (2): BatchNorm2d(24, eps=1e-05, momentum=0.1, affine=True, track_running_stats=True)\n",
       "        (3): ReLU()\n",
       "      )\n",
       "    )\n",
       "    (7): MaxPool2d(kernel_size=3, stride=2, padding=1, dilation=1, ceil_mode=False)\n",
       "    (8): InceptionBlock(\n",
       "      (conv_1x1): Sequential(\n",
       "        (0): Conv2d(128, 32, kernel_size=(1, 1), stride=(1, 1))\n",
       "        (1): BatchNorm2d(32, eps=1e-05, momentum=0.1, affine=True, track_running_stats=True)\n",
       "        (2): ReLU()\n",
       "      )\n",
       "      (conv_3x3): Sequential(\n",
       "        (0): Conv2d(128, 48, kernel_size=(1, 1), stride=(1, 1))\n",
       "        (1): BatchNorm2d(48, eps=1e-05, momentum=0.1, affine=True, track_running_stats=True)\n",
       "        (2): ReLU()\n",
       "        (3): Conv2d(48, 64, kernel_size=(3, 3), stride=(1, 1), padding=(1, 1))\n",
       "        (4): BatchNorm2d(64, eps=1e-05, momentum=0.1, affine=True, track_running_stats=True)\n",
       "        (5): ReLU()\n",
       "      )\n",
       "      (conv_5x5): Sequential(\n",
       "        (0): Conv2d(128, 16, kernel_size=(1, 1), stride=(1, 1))\n",
       "        (1): BatchNorm2d(16, eps=1e-05, momentum=0.1, affine=True, track_running_stats=True)\n",
       "        (2): ReLU()\n",
       "        (3): Conv2d(16, 16, kernel_size=(5, 5), stride=(1, 1), padding=(2, 2))\n",
       "        (4): BatchNorm2d(16, eps=1e-05, momentum=0.1, affine=True, track_running_stats=True)\n",
       "        (5): ReLU()\n",
       "      )\n",
       "      (max_pool): Sequential(\n",
       "        (0): MaxPool2d(kernel_size=3, stride=1, padding=1, dilation=1, ceil_mode=False)\n",
       "        (1): Conv2d(128, 16, kernel_size=(1, 1), stride=(1, 1))\n",
       "        (2): BatchNorm2d(16, eps=1e-05, momentum=0.1, affine=True, track_running_stats=True)\n",
       "        (3): ReLU()\n",
       "      )\n",
       "    )\n",
       "    (9): InceptionBlock(\n",
       "      (conv_1x1): Sequential(\n",
       "        (0): Conv2d(128, 32, kernel_size=(1, 1), stride=(1, 1))\n",
       "        (1): BatchNorm2d(32, eps=1e-05, momentum=0.1, affine=True, track_running_stats=True)\n",
       "        (2): ReLU()\n",
       "      )\n",
       "      (conv_3x3): Sequential(\n",
       "        (0): Conv2d(128, 48, kernel_size=(1, 1), stride=(1, 1))\n",
       "        (1): BatchNorm2d(48, eps=1e-05, momentum=0.1, affine=True, track_running_stats=True)\n",
       "        (2): ReLU()\n",
       "        (3): Conv2d(48, 64, kernel_size=(3, 3), stride=(1, 1), padding=(1, 1))\n",
       "        (4): BatchNorm2d(64, eps=1e-05, momentum=0.1, affine=True, track_running_stats=True)\n",
       "        (5): ReLU()\n",
       "      )\n",
       "      (conv_5x5): Sequential(\n",
       "        (0): Conv2d(128, 16, kernel_size=(1, 1), stride=(1, 1))\n",
       "        (1): BatchNorm2d(16, eps=1e-05, momentum=0.1, affine=True, track_running_stats=True)\n",
       "        (2): ReLU()\n",
       "        (3): Conv2d(16, 16, kernel_size=(5, 5), stride=(1, 1), padding=(2, 2))\n",
       "        (4): BatchNorm2d(16, eps=1e-05, momentum=0.1, affine=True, track_running_stats=True)\n",
       "        (5): ReLU()\n",
       "      )\n",
       "      (max_pool): Sequential(\n",
       "        (0): MaxPool2d(kernel_size=3, stride=1, padding=1, dilation=1, ceil_mode=False)\n",
       "        (1): Conv2d(128, 16, kernel_size=(1, 1), stride=(1, 1))\n",
       "        (2): BatchNorm2d(16, eps=1e-05, momentum=0.1, affine=True, track_running_stats=True)\n",
       "        (3): ReLU()\n",
       "      )\n",
       "    )\n",
       "  )\n",
       "  (output_net): Sequential(\n",
       "    (0): AdaptiveAvgPool2d(output_size=(1, 1))\n",
       "    (1): Flatten(start_dim=1, end_dim=-1)\n",
       "    (2): Linear(in_features=128, out_features=7, bias=True)\n",
       "  )\n",
       ")"
      ]
     },
     "execution_count": 8,
     "metadata": {},
     "output_type": "execute_result"
    }
   ],
   "source": [
    "device = torch.device(\"cuda\" if torch.cuda.is_available() else \"cpu\")\n",
    "quickdraw_model=torch.load(sys.path[0]+'/Inception_quickdraw_model.pth')\n",
    "quickdraw_model.eval()"
   ]
  },
  {
   "cell_type": "code",
   "execution_count": null,
   "id": "MqwsW-On2ktP",
   "metadata": {
    "colab": {
     "base_uri": "https://localhost:8080/"
    },
    "executionInfo": {
     "elapsed": 4417,
     "status": "ok",
     "timestamp": 1668523574166,
     "user": {
      "displayName": "S Fan",
      "userId": "12533267099099146412"
     },
     "user_tz": -480
    },
    "id": "MqwsW-On2ktP",
    "outputId": "3bae61c8-4ff6-469b-bb8b-1c4c7efcc786"
   },
   "outputs": [
    {
     "data": {
      "text/plain": [
       "Inception(\n",
       "  (input_net): Sequential(\n",
       "    (0): Conv2d(3, 64, kernel_size=(3, 3), stride=(1, 1), padding=(1, 1))\n",
       "    (1): BatchNorm2d(64, eps=1e-05, momentum=0.1, affine=True, track_running_stats=True)\n",
       "    (2): ReLU()\n",
       "  )\n",
       "  (inception_blocks): Sequential(\n",
       "    (0): InceptionBlock(\n",
       "      (conv_1x1): Sequential(\n",
       "        (0): Conv2d(64, 16, kernel_size=(1, 1), stride=(1, 1))\n",
       "        (1): BatchNorm2d(16, eps=1e-05, momentum=0.1, affine=True, track_running_stats=True)\n",
       "        (2): ReLU()\n",
       "      )\n",
       "      (conv_3x3): Sequential(\n",
       "        (0): Conv2d(64, 32, kernel_size=(1, 1), stride=(1, 1))\n",
       "        (1): BatchNorm2d(32, eps=1e-05, momentum=0.1, affine=True, track_running_stats=True)\n",
       "        (2): ReLU()\n",
       "        (3): Conv2d(32, 32, kernel_size=(3, 3), stride=(1, 1), padding=(1, 1))\n",
       "        (4): BatchNorm2d(32, eps=1e-05, momentum=0.1, affine=True, track_running_stats=True)\n",
       "        (5): ReLU()\n",
       "      )\n",
       "      (conv_5x5): Sequential(\n",
       "        (0): Conv2d(64, 16, kernel_size=(1, 1), stride=(1, 1))\n",
       "        (1): BatchNorm2d(16, eps=1e-05, momentum=0.1, affine=True, track_running_stats=True)\n",
       "        (2): ReLU()\n",
       "        (3): Conv2d(16, 8, kernel_size=(5, 5), stride=(1, 1), padding=(2, 2))\n",
       "        (4): BatchNorm2d(8, eps=1e-05, momentum=0.1, affine=True, track_running_stats=True)\n",
       "        (5): ReLU()\n",
       "      )\n",
       "      (max_pool): Sequential(\n",
       "        (0): MaxPool2d(kernel_size=3, stride=1, padding=1, dilation=1, ceil_mode=False)\n",
       "        (1): Conv2d(64, 8, kernel_size=(1, 1), stride=(1, 1))\n",
       "        (2): BatchNorm2d(8, eps=1e-05, momentum=0.1, affine=True, track_running_stats=True)\n",
       "        (3): ReLU()\n",
       "      )\n",
       "    )\n",
       "    (1): InceptionBlock(\n",
       "      (conv_1x1): Sequential(\n",
       "        (0): Conv2d(64, 24, kernel_size=(1, 1), stride=(1, 1))\n",
       "        (1): BatchNorm2d(24, eps=1e-05, momentum=0.1, affine=True, track_running_stats=True)\n",
       "        (2): ReLU()\n",
       "      )\n",
       "      (conv_3x3): Sequential(\n",
       "        (0): Conv2d(64, 32, kernel_size=(1, 1), stride=(1, 1))\n",
       "        (1): BatchNorm2d(32, eps=1e-05, momentum=0.1, affine=True, track_running_stats=True)\n",
       "        (2): ReLU()\n",
       "        (3): Conv2d(32, 48, kernel_size=(3, 3), stride=(1, 1), padding=(1, 1))\n",
       "        (4): BatchNorm2d(48, eps=1e-05, momentum=0.1, affine=True, track_running_stats=True)\n",
       "        (5): ReLU()\n",
       "      )\n",
       "      (conv_5x5): Sequential(\n",
       "        (0): Conv2d(64, 16, kernel_size=(1, 1), stride=(1, 1))\n",
       "        (1): BatchNorm2d(16, eps=1e-05, momentum=0.1, affine=True, track_running_stats=True)\n",
       "        (2): ReLU()\n",
       "        (3): Conv2d(16, 12, kernel_size=(5, 5), stride=(1, 1), padding=(2, 2))\n",
       "        (4): BatchNorm2d(12, eps=1e-05, momentum=0.1, affine=True, track_running_stats=True)\n",
       "        (5): ReLU()\n",
       "      )\n",
       "      (max_pool): Sequential(\n",
       "        (0): MaxPool2d(kernel_size=3, stride=1, padding=1, dilation=1, ceil_mode=False)\n",
       "        (1): Conv2d(64, 12, kernel_size=(1, 1), stride=(1, 1))\n",
       "        (2): BatchNorm2d(12, eps=1e-05, momentum=0.1, affine=True, track_running_stats=True)\n",
       "        (3): ReLU()\n",
       "      )\n",
       "    )\n",
       "    (2): MaxPool2d(kernel_size=3, stride=2, padding=1, dilation=1, ceil_mode=False)\n",
       "    (3): InceptionBlock(\n",
       "      (conv_1x1): Sequential(\n",
       "        (0): Conv2d(96, 24, kernel_size=(1, 1), stride=(1, 1))\n",
       "        (1): BatchNorm2d(24, eps=1e-05, momentum=0.1, affine=True, track_running_stats=True)\n",
       "        (2): ReLU()\n",
       "      )\n",
       "      (conv_3x3): Sequential(\n",
       "        (0): Conv2d(96, 32, kernel_size=(1, 1), stride=(1, 1))\n",
       "        (1): BatchNorm2d(32, eps=1e-05, momentum=0.1, affine=True, track_running_stats=True)\n",
       "        (2): ReLU()\n",
       "        (3): Conv2d(32, 48, kernel_size=(3, 3), stride=(1, 1), padding=(1, 1))\n",
       "        (4): BatchNorm2d(48, eps=1e-05, momentum=0.1, affine=True, track_running_stats=True)\n",
       "        (5): ReLU()\n",
       "      )\n",
       "      (conv_5x5): Sequential(\n",
       "        (0): Conv2d(96, 16, kernel_size=(1, 1), stride=(1, 1))\n",
       "        (1): BatchNorm2d(16, eps=1e-05, momentum=0.1, affine=True, track_running_stats=True)\n",
       "        (2): ReLU()\n",
       "        (3): Conv2d(16, 12, kernel_size=(5, 5), stride=(1, 1), padding=(2, 2))\n",
       "        (4): BatchNorm2d(12, eps=1e-05, momentum=0.1, affine=True, track_running_stats=True)\n",
       "        (5): ReLU()\n",
       "      )\n",
       "      (max_pool): Sequential(\n",
       "        (0): MaxPool2d(kernel_size=3, stride=1, padding=1, dilation=1, ceil_mode=False)\n",
       "        (1): Conv2d(96, 12, kernel_size=(1, 1), stride=(1, 1))\n",
       "        (2): BatchNorm2d(12, eps=1e-05, momentum=0.1, affine=True, track_running_stats=True)\n",
       "        (3): ReLU()\n",
       "      )\n",
       "    )\n",
       "    (4): InceptionBlock(\n",
       "      (conv_1x1): Sequential(\n",
       "        (0): Conv2d(96, 16, kernel_size=(1, 1), stride=(1, 1))\n",
       "        (1): BatchNorm2d(16, eps=1e-05, momentum=0.1, affine=True, track_running_stats=True)\n",
       "        (2): ReLU()\n",
       "      )\n",
       "      (conv_3x3): Sequential(\n",
       "        (0): Conv2d(96, 32, kernel_size=(1, 1), stride=(1, 1))\n",
       "        (1): BatchNorm2d(32, eps=1e-05, momentum=0.1, affine=True, track_running_stats=True)\n",
       "        (2): ReLU()\n",
       "        (3): Conv2d(32, 48, kernel_size=(3, 3), stride=(1, 1), padding=(1, 1))\n",
       "        (4): BatchNorm2d(48, eps=1e-05, momentum=0.1, affine=True, track_running_stats=True)\n",
       "        (5): ReLU()\n",
       "      )\n",
       "      (conv_5x5): Sequential(\n",
       "        (0): Conv2d(96, 16, kernel_size=(1, 1), stride=(1, 1))\n",
       "        (1): BatchNorm2d(16, eps=1e-05, momentum=0.1, affine=True, track_running_stats=True)\n",
       "        (2): ReLU()\n",
       "        (3): Conv2d(16, 16, kernel_size=(5, 5), stride=(1, 1), padding=(2, 2))\n",
       "        (4): BatchNorm2d(16, eps=1e-05, momentum=0.1, affine=True, track_running_stats=True)\n",
       "        (5): ReLU()\n",
       "      )\n",
       "      (max_pool): Sequential(\n",
       "        (0): MaxPool2d(kernel_size=3, stride=1, padding=1, dilation=1, ceil_mode=False)\n",
       "        (1): Conv2d(96, 16, kernel_size=(1, 1), stride=(1, 1))\n",
       "        (2): BatchNorm2d(16, eps=1e-05, momentum=0.1, affine=True, track_running_stats=True)\n",
       "        (3): ReLU()\n",
       "      )\n",
       "    )\n",
       "    (5): InceptionBlock(\n",
       "      (conv_1x1): Sequential(\n",
       "        (0): Conv2d(96, 16, kernel_size=(1, 1), stride=(1, 1))\n",
       "        (1): BatchNorm2d(16, eps=1e-05, momentum=0.1, affine=True, track_running_stats=True)\n",
       "        (2): ReLU()\n",
       "      )\n",
       "      (conv_3x3): Sequential(\n",
       "        (0): Conv2d(96, 32, kernel_size=(1, 1), stride=(1, 1))\n",
       "        (1): BatchNorm2d(32, eps=1e-05, momentum=0.1, affine=True, track_running_stats=True)\n",
       "        (2): ReLU()\n",
       "        (3): Conv2d(32, 48, kernel_size=(3, 3), stride=(1, 1), padding=(1, 1))\n",
       "        (4): BatchNorm2d(48, eps=1e-05, momentum=0.1, affine=True, track_running_stats=True)\n",
       "        (5): ReLU()\n",
       "      )\n",
       "      (conv_5x5): Sequential(\n",
       "        (0): Conv2d(96, 16, kernel_size=(1, 1), stride=(1, 1))\n",
       "        (1): BatchNorm2d(16, eps=1e-05, momentum=0.1, affine=True, track_running_stats=True)\n",
       "        (2): ReLU()\n",
       "        (3): Conv2d(16, 16, kernel_size=(5, 5), stride=(1, 1), padding=(2, 2))\n",
       "        (4): BatchNorm2d(16, eps=1e-05, momentum=0.1, affine=True, track_running_stats=True)\n",
       "        (5): ReLU()\n",
       "      )\n",
       "      (max_pool): Sequential(\n",
       "        (0): MaxPool2d(kernel_size=3, stride=1, padding=1, dilation=1, ceil_mode=False)\n",
       "        (1): Conv2d(96, 16, kernel_size=(1, 1), stride=(1, 1))\n",
       "        (2): BatchNorm2d(16, eps=1e-05, momentum=0.1, affine=True, track_running_stats=True)\n",
       "        (3): ReLU()\n",
       "      )\n",
       "    )\n",
       "    (6): InceptionBlock(\n",
       "      (conv_1x1): Sequential(\n",
       "        (0): Conv2d(96, 32, kernel_size=(1, 1), stride=(1, 1))\n",
       "        (1): BatchNorm2d(32, eps=1e-05, momentum=0.1, affine=True, track_running_stats=True)\n",
       "        (2): ReLU()\n",
       "      )\n",
       "      (conv_3x3): Sequential(\n",
       "        (0): Conv2d(96, 32, kernel_size=(1, 1), stride=(1, 1))\n",
       "        (1): BatchNorm2d(32, eps=1e-05, momentum=0.1, affine=True, track_running_stats=True)\n",
       "        (2): ReLU()\n",
       "        (3): Conv2d(32, 48, kernel_size=(3, 3), stride=(1, 1), padding=(1, 1))\n",
       "        (4): BatchNorm2d(48, eps=1e-05, momentum=0.1, affine=True, track_running_stats=True)\n",
       "        (5): ReLU()\n",
       "      )\n",
       "      (conv_5x5): Sequential(\n",
       "        (0): Conv2d(96, 16, kernel_size=(1, 1), stride=(1, 1))\n",
       "        (1): BatchNorm2d(16, eps=1e-05, momentum=0.1, affine=True, track_running_stats=True)\n",
       "        (2): ReLU()\n",
       "        (3): Conv2d(16, 24, kernel_size=(5, 5), stride=(1, 1), padding=(2, 2))\n",
       "        (4): BatchNorm2d(24, eps=1e-05, momentum=0.1, affine=True, track_running_stats=True)\n",
       "        (5): ReLU()\n",
       "      )\n",
       "      (max_pool): Sequential(\n",
       "        (0): MaxPool2d(kernel_size=3, stride=1, padding=1, dilation=1, ceil_mode=False)\n",
       "        (1): Conv2d(96, 24, kernel_size=(1, 1), stride=(1, 1))\n",
       "        (2): BatchNorm2d(24, eps=1e-05, momentum=0.1, affine=True, track_running_stats=True)\n",
       "        (3): ReLU()\n",
       "      )\n",
       "    )\n",
       "    (7): MaxPool2d(kernel_size=3, stride=2, padding=1, dilation=1, ceil_mode=False)\n",
       "    (8): InceptionBlock(\n",
       "      (conv_1x1): Sequential(\n",
       "        (0): Conv2d(128, 32, kernel_size=(1, 1), stride=(1, 1))\n",
       "        (1): BatchNorm2d(32, eps=1e-05, momentum=0.1, affine=True, track_running_stats=True)\n",
       "        (2): ReLU()\n",
       "      )\n",
       "      (conv_3x3): Sequential(\n",
       "        (0): Conv2d(128, 48, kernel_size=(1, 1), stride=(1, 1))\n",
       "        (1): BatchNorm2d(48, eps=1e-05, momentum=0.1, affine=True, track_running_stats=True)\n",
       "        (2): ReLU()\n",
       "        (3): Conv2d(48, 64, kernel_size=(3, 3), stride=(1, 1), padding=(1, 1))\n",
       "        (4): BatchNorm2d(64, eps=1e-05, momentum=0.1, affine=True, track_running_stats=True)\n",
       "        (5): ReLU()\n",
       "      )\n",
       "      (conv_5x5): Sequential(\n",
       "        (0): Conv2d(128, 16, kernel_size=(1, 1), stride=(1, 1))\n",
       "        (1): BatchNorm2d(16, eps=1e-05, momentum=0.1, affine=True, track_running_stats=True)\n",
       "        (2): ReLU()\n",
       "        (3): Conv2d(16, 16, kernel_size=(5, 5), stride=(1, 1), padding=(2, 2))\n",
       "        (4): BatchNorm2d(16, eps=1e-05, momentum=0.1, affine=True, track_running_stats=True)\n",
       "        (5): ReLU()\n",
       "      )\n",
       "      (max_pool): Sequential(\n",
       "        (0): MaxPool2d(kernel_size=3, stride=1, padding=1, dilation=1, ceil_mode=False)\n",
       "        (1): Conv2d(128, 16, kernel_size=(1, 1), stride=(1, 1))\n",
       "        (2): BatchNorm2d(16, eps=1e-05, momentum=0.1, affine=True, track_running_stats=True)\n",
       "        (3): ReLU()\n",
       "      )\n",
       "    )\n",
       "    (9): InceptionBlock(\n",
       "      (conv_1x1): Sequential(\n",
       "        (0): Conv2d(128, 32, kernel_size=(1, 1), stride=(1, 1))\n",
       "        (1): BatchNorm2d(32, eps=1e-05, momentum=0.1, affine=True, track_running_stats=True)\n",
       "        (2): ReLU()\n",
       "      )\n",
       "      (conv_3x3): Sequential(\n",
       "        (0): Conv2d(128, 48, kernel_size=(1, 1), stride=(1, 1))\n",
       "        (1): BatchNorm2d(48, eps=1e-05, momentum=0.1, affine=True, track_running_stats=True)\n",
       "        (2): ReLU()\n",
       "        (3): Conv2d(48, 64, kernel_size=(3, 3), stride=(1, 1), padding=(1, 1))\n",
       "        (4): BatchNorm2d(64, eps=1e-05, momentum=0.1, affine=True, track_running_stats=True)\n",
       "        (5): ReLU()\n",
       "      )\n",
       "      (conv_5x5): Sequential(\n",
       "        (0): Conv2d(128, 16, kernel_size=(1, 1), stride=(1, 1))\n",
       "        (1): BatchNorm2d(16, eps=1e-05, momentum=0.1, affine=True, track_running_stats=True)\n",
       "        (2): ReLU()\n",
       "        (3): Conv2d(16, 16, kernel_size=(5, 5), stride=(1, 1), padding=(2, 2))\n",
       "        (4): BatchNorm2d(16, eps=1e-05, momentum=0.1, affine=True, track_running_stats=True)\n",
       "        (5): ReLU()\n",
       "      )\n",
       "      (max_pool): Sequential(\n",
       "        (0): MaxPool2d(kernel_size=3, stride=1, padding=1, dilation=1, ceil_mode=False)\n",
       "        (1): Conv2d(128, 16, kernel_size=(1, 1), stride=(1, 1))\n",
       "        (2): BatchNorm2d(16, eps=1e-05, momentum=0.1, affine=True, track_running_stats=True)\n",
       "        (3): ReLU()\n",
       "      )\n",
       "    )\n",
       "  )\n",
       "  (output_net): Sequential(\n",
       "    (0): AdaptiveAvgPool2d(output_size=(1, 1))\n",
       "    (1): Flatten(start_dim=1, end_dim=-1)\n",
       "    (2): Linear(in_features=128, out_features=7, bias=True)\n",
       "  )\n",
       ")"
      ]
     },
     "execution_count": 9,
     "metadata": {},
     "output_type": "execute_result"
    }
   ],
   "source": [
    "device = torch.device(\"cuda\" if torch.cuda.is_available() else \"cpu\")\n",
    "realworld_model=torch.load(sys.path[0]+'/Inception_realworld_model.pth')\n",
    "realworld_model.eval()"
   ]
  },
  {
   "cell_type": "code",
   "execution_count": null,
   "id": "kPHRSWys1T-D",
   "metadata": {
    "colab": {
     "base_uri": "https://localhost:8080/"
    },
    "executionInfo": {
     "elapsed": 10895,
     "status": "ok",
     "timestamp": 1668523593309,
     "user": {
      "displayName": "S Fan",
      "userId": "12533267099099146412"
     },
     "user_tz": -480
    },
    "id": "kPHRSWys1T-D",
    "outputId": "ad2fc0ec-9441-4870-d442-8d60af496bee"
   },
   "outputs": [
    {
     "name": "stdout",
     "output_type": "stream",
     "text": [
      "Accuracy of the network on the test images: 91 %\n"
     ]
    }
   ],
   "source": [
    "from collections import defaultdict \n",
    "features = defaultdict(list)\n",
    "\n",
    "correct = 0\n",
    "total = 0\n",
    "with torch.no_grad():\n",
    "    for data in quickdraw_testloader:\n",
    "        data['label'] = torch.argmax(data['label'].squeeze(),dim = 1)\n",
    "        images, labels = data['image'].to(device), data['label'].to(device)\n",
    "        outputs = quickdraw_model(images)\n",
    "        _, predicted = torch.max(outputs.data, 1)\n",
    "        total += labels.size(0)\n",
    "        correct += (predicted == labels).sum().item()\n",
    "\n",
    "        labels_sq = labels.tolist()\n",
    "        for i in range(outputs.shape[0]):\n",
    "              features[labels_sq[i]].append(outputs[i])\n",
    "\n",
    "print(f'Accuracy of the network on the test images: {100 * correct // total} %')"
   ]
  },
  {
   "cell_type": "code",
   "execution_count": null,
   "id": "b5eLqTUb1W95",
   "metadata": {
    "colab": {
     "base_uri": "https://localhost:8080/"
    },
    "executionInfo": {
     "elapsed": 5943,
     "status": "ok",
     "timestamp": 1668523601858,
     "user": {
      "displayName": "S Fan",
      "userId": "12533267099099146412"
     },
     "user_tz": -480
    },
    "id": "b5eLqTUb1W95",
    "outputId": "d909db28-a9e8-4e28-ec23-6c3524202779"
   },
   "outputs": [
    {
     "name": "stdout",
     "output_type": "stream",
     "text": [
      "Accuracy of the network on the test images: 89 %\n"
     ]
    }
   ],
   "source": [
    "from collections import defaultdict \n",
    "features_real = defaultdict(list)\n",
    "\n",
    "correct = 0\n",
    "total = 0\n",
    "with torch.no_grad():\n",
    "    for data in realworld_testloader:\n",
    "        data['label'] = torch.argmax(data['label'].squeeze(),dim = 1)\n",
    "        images, labels = data['image'].to(device), data['label'].to(device)\n",
    "        outputs = realworld_model(images)\n",
    "        _, predicted = torch.max(outputs.data, 1)\n",
    "        total += labels.size(0)\n",
    "        correct += (predicted == labels).sum().item()\n",
    "\n",
    "        labels_sq = labels.tolist()\n",
    "        for i in range(outputs.shape[0]):\n",
    "              features_real[labels_sq[i]].append(outputs[i])\n",
    "\n",
    "print(f'Accuracy of the network on the test images: {100 * correct // total} %')"
   ]
  },
  {
   "cell_type": "code",
   "execution_count": null,
   "id": "uWNilXbj1R4W",
   "metadata": {
    "id": "uWNilXbj1R4W"
   },
   "outputs": [],
   "source": [
    "fea1 = torch.empty((7000,7))\n",
    "for i in range(len(features)):\n",
    "  fea1[i*1000:1000*(i+1)] = torch.stack(features[i])\n",
    "\n",
    "fea2 = torch.empty((7000,7))\n",
    "for i in range(len(features_real)):\n",
    "  fea2[i*1000:1000*(i+1)] = torch.stack(features_real[i])"
   ]
  },
  {
   "cell_type": "code",
   "execution_count": null,
   "id": "fFUqrVJD1RYT",
   "metadata": {
    "id": "fFUqrVJD1RYT"
   },
   "outputs": [],
   "source": [
    "def cos_similarity(k,fea2,fea1):\n",
    "  correct = 0\n",
    "  total = 0\n",
    "  real_matrix = F.normalize(fea2) \n",
    "  for idx, image in enumerate(fea1):\n",
    "    feature1 = image.reshape(1,-1)\n",
    "    a = F.normalize(feature1)\n",
    "    res = F.cosine_similarity(a,real_matrix)\n",
    "    _,predict = res.topk(k, largest=True, sorted=True)\n",
    "\n",
    "    correct += sum([idx//1000==i//1000 for i in predict]).item()\n",
    "    total += k\n",
    "\n",
    "  print(f\"Top {k}: accuracy {(correct/total):.3f}\")  "
   ]
  },
  {
   "cell_type": "code",
   "execution_count": null,
   "id": "Q8ljQuNs4PcY",
   "metadata": {
    "colab": {
     "base_uri": "https://localhost:8080/"
    },
    "executionInfo": {
     "elapsed": 25645,
     "status": "ok",
     "timestamp": 1668523640595,
     "user": {
      "displayName": "S Fan",
      "userId": "12533267099099146412"
     },
     "user_tz": -480
    },
    "id": "Q8ljQuNs4PcY",
    "outputId": "7c0c6de1-a73b-4729-84e9-84b4ec632d2a"
   },
   "outputs": [
    {
     "name": "stdout",
     "output_type": "stream",
     "text": [
      "Top 1: accuracy 0.812\n",
      "Top 3: accuracy 0.852\n",
      "Top 5: accuracy 0.863\n",
      "Top 10: accuracy 0.873\n",
      "Top 20: accuracy 0.881\n"
     ]
    }
   ],
   "source": [
    "for k_choice in [1,3,5,10,20]:\n",
    "  cos_similarity(k_choice,fea2,fea1)"
   ]
  },
  {
   "cell_type": "code",
   "execution_count": null,
   "id": "fm6iB_5d4iuJ",
   "metadata": {
    "id": "fm6iB_5d4iuJ"
   },
   "outputs": [],
   "source": [
    "epoches = [i for i in range(num_epoch)]\n",
    "train_quickdraw_loss = [1.5341553701034853, 0.8991504127140755, 0.6161282341109714, 0.47699825083556424, 0.39429769081016514, 0.342790764695937, 0.3046886844355474, 0.275614949978163, 0.2548685404854201, 0.23515681957760742, 0.21777627853050097, 0.2005769810487475, 0.1864624847302885, 0.17391851614305923, 0.16021759980805467, 0.14871927477718455, 0.13485123915048294, 0.1253989653228334, 0.11535915978586307, 0.10402632573151284]\n",
    "train_quickdraw_acc = [0.5774642857142858, 0.7978214285714286, 0.8535714285714285, 0.8792857142857143, 0.8961785714285714, 0.9091428571428571, 0.9161785714285714, 0.9227857142857143, 0.9288571428571428, 0.9328928571428572, 0.9378928571428572, 0.9430714285714286, 0.9474285714285714, 0.9516071428571429, 0.9558571428571428, 0.9596428571428571, 0.9634642857142857, 0.9674285714285714, 0.9708928571428571, 0.9743571428571428]\n",
    "val_quickdraw_loss = [1.1169138015656779, 0.7088665072475935, 0.5198165999960336, 0.42097089594759635, 0.37561413838630414, 0.33542910780692753, 0.304507122941696, 0.2906581053260156, 0.28137361281785145, 0.27379942739634805, 0.26596620480168287, 0.26829153565245706, 0.261016144863044, 0.275557360940116, 0.2660701189871456, 0.2662144422216034, 0.2911865461549321, 0.26502964076999286, 0.26065498565154915, 0.26004530126695213]\n",
    "val_quickdraw_acc = [0.7504285714285714, 0.8392857142857143, 0.8712857142857143, 0.8902857142857142, 0.8967142857142857, 0.9055714285714286, 0.912, 0.9121428571428571, 0.9128571428571428, 0.9147142857142857, 0.9187142857142857, 0.9155714285714286, 0.9172857142857143, 0.9131428571428571, 0.9135714285714286, 0.9142857142857143, 0.906, 0.9152857142857143, 0.9177142857142857, 0.9162857142857143]\n",
    "train_realworld_loss = [1.6454635966189817, 1.2163931017951446, 0.967913655210779, 0.8089210012738869, 0.7111143976549011, 0.6409570967089142, 0.5931795318554202, 0.5529410019621149, 0.5143736986473927, 0.4809634260624383, 0.45585057986638916, 0.42951189705834625, 0.40456406201296524, 0.3795610558917946, 0.36244394095912114, 0.34327948681952797, 0.3264049841858711, 0.30315306713385415, 0.28889049638441633, 0.27277808645452173]\n",
    "train_realworld_acc = [0.4095714285714286, 0.5905714285714285, 0.6868928571428572, 0.7378571428571429, 0.7670714285714286, 0.7916428571428571, 0.8060714285714285, 0.8163928571428571, 0.83175, 0.8433928571428572, 0.8522857142857143, 0.8603928571428572, 0.8706428571428572, 0.8779285714285714, 0.8852857142857142, 0.8884642857142857, 0.8968571428571429, 0.90375, 0.9081071428571429, 0.9148214285714286]\n",
    "val_realworld_loss = [1.30365810985523, 0.9697722407937731, 0.7297720592458034, 0.5950095413817651, 0.5047763118452264, 0.44731906879571537, 0.428245714193936, 0.39248430619333685, 0.3629245297795181, 0.35259217578444585, 0.36368036080690097, 0.3231659903375216, 0.3250449756713432, 0.31006041729993394, 0.31298390893431977, 0.29998508612996755, 0.32288051655868427, 0.32482717642685255, 0.31472025947657395, 0.3122758886785645]\n",
    "val_realworld_acc = [0.5932857142857143, 0.7205714285714285, 0.7817142857142857, 0.8224285714285714, 0.8482857142857143, 0.8641428571428571, 0.8617142857142858, 0.872, 0.8785714285714286, 0.8822857142857143, 0.8718571428571429, 0.8955714285714286, 0.8901428571428571, 0.8964285714285715, 0.8937142857142857, 0.899, 0.8911428571428571, 0.897, 0.8978571428571429, 0.8982857142857142]"
   ]
  },
  {
   "cell_type": "code",
   "execution_count": null,
   "id": "-rsvGIJx4hgj",
   "metadata": {
    "id": "-rsvGIJx4hgj"
   },
   "outputs": [],
   "source": [
    "import pickle\n",
    "\n",
    "model_history = {\n",
    "    \"epoch\": epoches,\n",
    "    \"train_loss\": [],\n",
    "    \"train_acc\": [],\n",
    "    \"val_loss\": [],\n",
    "    \"val_acc\": [],\n",
    "\n",
    "    \"train_realworld_acc\": train_realworld_acc,\n",
    "    \"train_quickdraw_acc\": train_quickdraw_acc,\n",
    "    \"val_realworld_acc\": val_realworld_acc,\n",
    "    \"val_quickdraw_acc\": val_quickdraw_acc,\n",
    "    \"train_realworld_loss\": train_realworld_loss,\n",
    "    \"train_quickdraw_loss\": train_quickdraw_loss,\n",
    "    \"val_realworld_loss\": val_realworld_loss,\n",
    "    \"val_quickdraw_loss\": val_quickdraw_loss,\n",
    "    \"k_choice\": [1,3,5,10,20], # [1,3,5,10,20]\n",
    "    \"topk_acc\": [0.812,0.852,0.863,0.873,0.881]\n",
    "}\n",
    "\n",
    "def save_model_history(metrics, filepath):\n",
    "    with open(filepath, 'wb') as file:\n",
    "        pickle.dump(metrics, file)\n",
    "\n",
    "def load_model_history(filepath):\n",
    "    with open(filepath, 'rb') as file:\n",
    "        metrics = pickle.load(file)\n",
    "    return metrics\n",
    "\n",
    "save_model_history(model_history, sys.path[0]+'/Inception_data.pkl')"
   ]
  },
  {
   "cell_type": "code",
   "execution_count": null,
   "id": "IWV4trxR7Lfw",
   "metadata": {
    "colab": {
     "base_uri": "https://localhost:8080/"
    },
    "executionInfo": {
     "elapsed": 513,
     "status": "ok",
     "timestamp": 1668528550494,
     "user": {
      "displayName": "S Fan",
      "userId": "12533267099099146412"
     },
     "user_tz": -480
    },
    "id": "IWV4trxR7Lfw",
    "outputId": "509d968e-5c21-4ac0-e385-7df9a5c55fff"
   },
   "outputs": [
    {
     "name": "stdout",
     "output_type": "stream",
     "text": [
      "{'epoch': [0, 1, 2, 3, 4, 5, 6, 7, 8, 9, 10, 11, 12, 13, 14, 15, 16, 17, 18, 19], 'train_loss': [], 'train_acc': [], 'val_loss': [], 'val_acc': [], 'train_realworld_acc': [0.4095714285714286, 0.5905714285714285, 0.6868928571428572, 0.7378571428571429, 0.7670714285714286, 0.7916428571428571, 0.8060714285714285, 0.8163928571428571, 0.83175, 0.8433928571428572, 0.8522857142857143, 0.8603928571428572, 0.8706428571428572, 0.8779285714285714, 0.8852857142857142, 0.8884642857142857, 0.8968571428571429, 0.90375, 0.9081071428571429, 0.9148214285714286], 'train_quickdraw_acc': [0.5774642857142858, 0.7978214285714286, 0.8535714285714285, 0.8792857142857143, 0.8961785714285714, 0.9091428571428571, 0.9161785714285714, 0.9227857142857143, 0.9288571428571428, 0.9328928571428572, 0.9378928571428572, 0.9430714285714286, 0.9474285714285714, 0.9516071428571429, 0.9558571428571428, 0.9596428571428571, 0.9634642857142857, 0.9674285714285714, 0.9708928571428571, 0.9743571428571428], 'val_realworld_acc': [0.5932857142857143, 0.7205714285714285, 0.7817142857142857, 0.8224285714285714, 0.8482857142857143, 0.8641428571428571, 0.8617142857142858, 0.872, 0.8785714285714286, 0.8822857142857143, 0.8718571428571429, 0.8955714285714286, 0.8901428571428571, 0.8964285714285715, 0.8937142857142857, 0.899, 0.8911428571428571, 0.897, 0.8978571428571429, 0.8982857142857142], 'val_quickdraw_acc': [0.7504285714285714, 0.8392857142857143, 0.8712857142857143, 0.8902857142857142, 0.8967142857142857, 0.9055714285714286, 0.912, 0.9121428571428571, 0.9128571428571428, 0.9147142857142857, 0.9187142857142857, 0.9155714285714286, 0.9172857142857143, 0.9131428571428571, 0.9135714285714286, 0.9142857142857143, 0.906, 0.9152857142857143, 0.9177142857142857, 0.9162857142857143], 'train_realworld_loss': [1.6454635966189817, 1.2163931017951446, 0.967913655210779, 0.8089210012738869, 0.7111143976549011, 0.6409570967089142, 0.5931795318554202, 0.5529410019621149, 0.5143736986473927, 0.4809634260624383, 0.45585057986638916, 0.42951189705834625, 0.40456406201296524, 0.3795610558917946, 0.36244394095912114, 0.34327948681952797, 0.3264049841858711, 0.30315306713385415, 0.28889049638441633, 0.27277808645452173], 'train_quickdraw_loss': [1.5341553701034853, 0.8991504127140755, 0.6161282341109714, 0.47699825083556424, 0.39429769081016514, 0.342790764695937, 0.3046886844355474, 0.275614949978163, 0.2548685404854201, 0.23515681957760742, 0.21777627853050097, 0.2005769810487475, 0.1864624847302885, 0.17391851614305923, 0.16021759980805467, 0.14871927477718455, 0.13485123915048294, 0.1253989653228334, 0.11535915978586307, 0.10402632573151284], 'val_realworld_loss': [1.30365810985523, 0.9697722407937731, 0.7297720592458034, 0.5950095413817651, 0.5047763118452264, 0.44731906879571537, 0.428245714193936, 0.39248430619333685, 0.3629245297795181, 0.35259217578444585, 0.36368036080690097, 0.3231659903375216, 0.3250449756713432, 0.31006041729993394, 0.31298390893431977, 0.29998508612996755, 0.32288051655868427, 0.32482717642685255, 0.31472025947657395, 0.3122758886785645], 'val_quickdraw_loss': [1.1169138015656779, 0.7088665072475935, 0.5198165999960336, 0.42097089594759635, 0.37561413838630414, 0.33542910780692753, 0.304507122941696, 0.2906581053260156, 0.28137361281785145, 0.27379942739634805, 0.26596620480168287, 0.26829153565245706, 0.261016144863044, 0.275557360940116, 0.2660701189871456, 0.2662144422216034, 0.2911865461549321, 0.26502964076999286, 0.26065498565154915, 0.26004530126695213], 'k_choice': [1, 3, 5, 10, 20], 'topk_acc': [0.812, 0.852, 0.863, 0.873, 0.881]}\n"
     ]
    }
   ],
   "source": [
    "model_history = load_model_history(sys.path[0]+'/Inception_data.pkl')\n",
    "print(model_history)"
   ]
  }
 ],
 "metadata": {
  "accelerator": "GPU",
  "colab": {
   "provenance": [],
   "toc_visible": true
  },
  "gpuClass": "standard",
  "kernelspec": {
   "display_name": "base",
   "language": "python",
   "name": "myenv"
  },
  "language_info": {
   "codemirror_mode": {
    "name": "ipython",
    "version": 3
   },
   "file_extension": ".py",
   "mimetype": "text/x-python",
   "name": "python",
   "nbconvert_exporter": "python",
   "pygments_lexer": "ipython3",
   "version": "3.9.12"
  }
 },
 "nbformat": 4,
 "nbformat_minor": 5
}
